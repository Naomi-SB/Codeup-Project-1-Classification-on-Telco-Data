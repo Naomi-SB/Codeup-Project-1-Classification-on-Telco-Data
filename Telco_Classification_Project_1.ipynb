{
 "cells": [
  {
   "cell_type": "markdown",
   "id": "f17862d7",
   "metadata": {},
   "source": [
    "# Are types of Service Drivers of Churn"
   ]
  },
  {
   "cell_type": "markdown",
   "id": "1f47b7cf",
   "metadata": {},
   "source": [
    "## Goal: \n",
    "    - discover drivers of churn from telco dataset\n",
    "    - use machine learning to classify cutomers as likley or unlikely to churn based on drivers\n",
    "    - To answer the question, to prevent churn do we need to sell more products or focus on retention? And if we need to sell more products, does the accessibility of the product matter?"
   ]
  },
  {
   "cell_type": "markdown",
   "id": "b2a93d37",
   "metadata": {},
   "source": [
    "## Data Dictionary:"
   ]
  },
  {
   "cell_type": "markdown",
   "id": "3213a8fc",
   "metadata": {},
   "source": [
    "## Imports:"
   ]
  },
  {
   "cell_type": "code",
   "execution_count": 1,
   "id": "e7f68385",
   "metadata": {},
   "outputs": [],
   "source": [
    "import pydataset as data\n",
    "import pandas as pd\n",
    "import numpy as np\n",
    "import seaborn as sns\n",
    "import math\n",
    "import os\n",
    "\n",
    "from scipy import stats\n",
    "import matplotlib.pyplot as plt\n",
    "\n",
    "from sklearn.model_selection import train_test_split\n",
    "from sklearn.metrics import classification_report\n",
    "from sklearn.metrics import confusion_matrix\n",
    "\n",
    "\n",
    "import sklearn.preprocessing\n",
    "from sklearn.tree import DecisionTreeClassifier\n",
    "from sklearn.neighbors import KNeighborsClassifier\n",
    "from sklearn.ensemble import RandomForestClassifier\n",
    "from sklearn.linear_model import LogisticRegression\n",
    "from sklearn.metrics import confusion_matrix, plot_confusion_matrix, ConfusionMatrixDisplay\n",
    "\n",
    "import wrangle as w\n",
    "import model as m\n",
    "import explore as e\n",
    "\n",
    "from env import get_db_url"
   ]
  },
  {
   "cell_type": "markdown",
   "id": "d6d4d2e5",
   "metadata": {},
   "source": [
    "## Acquire:"
   ]
  },
  {
   "cell_type": "code",
   "execution_count": 2,
   "id": "6506f839",
   "metadata": {},
   "outputs": [],
   "source": [
    "# uses env.py file to pull data in from SQL database\n",
    "raw_data = w.get_telco_data()"
   ]
  },
  {
   "cell_type": "markdown",
   "id": "72689a2a",
   "metadata": {},
   "source": [
    "## Prepare:"
   ]
  },
  {
   "cell_type": "code",
   "execution_count": 3,
   "id": "37b0119f",
   "metadata": {},
   "outputs": [],
   "source": [
    "# uses function to clean and prepare data to my specifications\n",
    "clean_data = w.prep_telco_data(raw_data)"
   ]
  },
  {
   "cell_type": "markdown",
   "id": "c7dadcdc",
   "metadata": {},
   "source": [
    "#### How the data is cleaned:\n",
    "\n",
    "- removed null variables\n",
    "- dropped features I would not be exploring\n",
    "- created features: 6 for charge bins, 4 for household types, 2 for service groups\n",
    "- encoded features that had the option of \"yes\", \"no\", or \"not applicable\""
   ]
  },
  {
   "cell_type": "markdown",
   "id": "cdf18373",
   "metadata": {},
   "source": [
    "### Data Dictionary"
   ]
  },
  {
   "cell_type": "markdown",
   "id": "5ca217a6",
   "metadata": {},
   "source": [
    "| Term | Definition |\n",
    "| --- | --- |\n",
    "| Out of Sight Service | returns a count of how many of the add-on options online backup, online security, device protection, and tech support someone has |\n",
    "| --- | --- |\n",
    "|In Hand Services | returns a count of how many of the add-on service options of phone service, internet, streaming tv, streaming movies, and multiple lines a customer has |\n",
    "| --- | --- |\n",
    "|Single House| A household qualifies as single if the listed customer has no partner and no dependents|\n",
    "| --- | --- |\n",
    "|Dual House| A household qualifies as dual if the listed customer has a partner but is listed as not having dependents|\n",
    "| --- | --- |\n",
    "|Single Head House| A household is considered single head if the listed customer has dependents but does not have a partner|\n",
    "| --- | --- |\n",
    "|Family House| A household qualifies as a family house if the listed customer has a partner and dependents|"
   ]
  },
  {
   "cell_type": "code",
   "execution_count": 4,
   "id": "47637af8",
   "metadata": {},
   "outputs": [],
   "source": [
    "# splits cleaned data into three groups\n",
    "train_df, validate_df, split_df = w.split_telco_data(clean_data)"
   ]
  },
  {
   "cell_type": "markdown",
   "id": "7e15bb51",
   "metadata": {},
   "source": [
    "## A brief look at the data:"
   ]
  },
  {
   "cell_type": "code",
   "execution_count": 5,
   "id": "8fb60461",
   "metadata": {},
   "outputs": [
    {
     "data": {
      "text/html": [
       "<div>\n",
       "<style scoped>\n",
       "    .dataframe tbody tr th:only-of-type {\n",
       "        vertical-align: middle;\n",
       "    }\n",
       "\n",
       "    .dataframe tbody tr th {\n",
       "        vertical-align: top;\n",
       "    }\n",
       "\n",
       "    .dataframe thead th {\n",
       "        text-align: right;\n",
       "    }\n",
       "</style>\n",
       "<table border=\"1\" class=\"dataframe\">\n",
       "  <thead>\n",
       "    <tr style=\"text-align: right;\">\n",
       "      <th></th>\n",
       "      <th>partner</th>\n",
       "      <th>dependents</th>\n",
       "      <th>phone_service</th>\n",
       "      <th>multiple_lines</th>\n",
       "      <th>internet</th>\n",
       "      <th>online_security</th>\n",
       "      <th>online_backup</th>\n",
       "      <th>device_protection</th>\n",
       "      <th>tech_support</th>\n",
       "      <th>streaming_tv</th>\n",
       "      <th>...</th>\n",
       "      <th>single_house</th>\n",
       "      <th>dual_house</th>\n",
       "      <th>family_house</th>\n",
       "      <th>single_head_house</th>\n",
       "      <th>partner_Yes</th>\n",
       "      <th>dependents_Yes</th>\n",
       "      <th>phone_service_Yes</th>\n",
       "      <th>churn_Yes</th>\n",
       "      <th>ihs</th>\n",
       "      <th>ooss</th>\n",
       "    </tr>\n",
       "  </thead>\n",
       "  <tbody>\n",
       "    <tr>\n",
       "      <th>3658</th>\n",
       "      <td>Yes</td>\n",
       "      <td>Yes</td>\n",
       "      <td>No</td>\n",
       "      <td>0</td>\n",
       "      <td>1</td>\n",
       "      <td>1</td>\n",
       "      <td>0</td>\n",
       "      <td>0</td>\n",
       "      <td>1</td>\n",
       "      <td>0</td>\n",
       "      <td>...</td>\n",
       "      <td>False</td>\n",
       "      <td>False</td>\n",
       "      <td>True</td>\n",
       "      <td>False</td>\n",
       "      <td>1</td>\n",
       "      <td>1</td>\n",
       "      <td>0</td>\n",
       "      <td>0</td>\n",
       "      <td>1</td>\n",
       "      <td>2</td>\n",
       "    </tr>\n",
       "    <tr>\n",
       "      <th>3865</th>\n",
       "      <td>Yes</td>\n",
       "      <td>Yes</td>\n",
       "      <td>Yes</td>\n",
       "      <td>1</td>\n",
       "      <td>0</td>\n",
       "      <td>0</td>\n",
       "      <td>0</td>\n",
       "      <td>0</td>\n",
       "      <td>0</td>\n",
       "      <td>0</td>\n",
       "      <td>...</td>\n",
       "      <td>False</td>\n",
       "      <td>False</td>\n",
       "      <td>True</td>\n",
       "      <td>False</td>\n",
       "      <td>1</td>\n",
       "      <td>1</td>\n",
       "      <td>1</td>\n",
       "      <td>0</td>\n",
       "      <td>2</td>\n",
       "      <td>0</td>\n",
       "    </tr>\n",
       "    <tr>\n",
       "      <th>386</th>\n",
       "      <td>No</td>\n",
       "      <td>No</td>\n",
       "      <td>Yes</td>\n",
       "      <td>0</td>\n",
       "      <td>1</td>\n",
       "      <td>0</td>\n",
       "      <td>1</td>\n",
       "      <td>1</td>\n",
       "      <td>0</td>\n",
       "      <td>0</td>\n",
       "      <td>...</td>\n",
       "      <td>True</td>\n",
       "      <td>False</td>\n",
       "      <td>False</td>\n",
       "      <td>False</td>\n",
       "      <td>0</td>\n",
       "      <td>0</td>\n",
       "      <td>1</td>\n",
       "      <td>0</td>\n",
       "      <td>2</td>\n",
       "      <td>2</td>\n",
       "    </tr>\n",
       "    <tr>\n",
       "      <th>1204</th>\n",
       "      <td>No</td>\n",
       "      <td>No</td>\n",
       "      <td>Yes</td>\n",
       "      <td>0</td>\n",
       "      <td>1</td>\n",
       "      <td>0</td>\n",
       "      <td>0</td>\n",
       "      <td>0</td>\n",
       "      <td>0</td>\n",
       "      <td>0</td>\n",
       "      <td>...</td>\n",
       "      <td>True</td>\n",
       "      <td>False</td>\n",
       "      <td>False</td>\n",
       "      <td>False</td>\n",
       "      <td>0</td>\n",
       "      <td>0</td>\n",
       "      <td>1</td>\n",
       "      <td>0</td>\n",
       "      <td>2</td>\n",
       "      <td>0</td>\n",
       "    </tr>\n",
       "    <tr>\n",
       "      <th>4570</th>\n",
       "      <td>Yes</td>\n",
       "      <td>Yes</td>\n",
       "      <td>Yes</td>\n",
       "      <td>1</td>\n",
       "      <td>1</td>\n",
       "      <td>1</td>\n",
       "      <td>1</td>\n",
       "      <td>1</td>\n",
       "      <td>1</td>\n",
       "      <td>1</td>\n",
       "      <td>...</td>\n",
       "      <td>False</td>\n",
       "      <td>False</td>\n",
       "      <td>True</td>\n",
       "      <td>False</td>\n",
       "      <td>1</td>\n",
       "      <td>1</td>\n",
       "      <td>1</td>\n",
       "      <td>0</td>\n",
       "      <td>4</td>\n",
       "      <td>4</td>\n",
       "    </tr>\n",
       "  </tbody>\n",
       "</table>\n",
       "<p>5 rows × 24 columns</p>\n",
       "</div>"
      ],
      "text/plain": [
       "     partner dependents phone_service  multiple_lines  internet  \\\n",
       "3658     Yes        Yes            No               0         1   \n",
       "3865     Yes        Yes           Yes               1         0   \n",
       "386       No         No           Yes               0         1   \n",
       "1204      No         No           Yes               0         1   \n",
       "4570     Yes        Yes           Yes               1         1   \n",
       "\n",
       "      online_security  online_backup  device_protection  tech_support  \\\n",
       "3658                1              0                  0             1   \n",
       "3865                0              0                  0             0   \n",
       "386                 0              1                  1             0   \n",
       "1204                0              0                  0             0   \n",
       "4570                1              1                  1             1   \n",
       "\n",
       "      streaming_tv  ...  single_house  dual_house family_house  \\\n",
       "3658             0  ...         False       False         True   \n",
       "3865             0  ...         False       False         True   \n",
       "386              0  ...          True       False        False   \n",
       "1204             0  ...          True       False        False   \n",
       "4570             1  ...         False       False         True   \n",
       "\n",
       "     single_head_house  partner_Yes  dependents_Yes  phone_service_Yes  \\\n",
       "3658             False            1               1                  0   \n",
       "3865             False            1               1                  1   \n",
       "386              False            0               0                  1   \n",
       "1204             False            0               0                  1   \n",
       "4570             False            1               1                  1   \n",
       "\n",
       "      churn_Yes  ihs  ooss  \n",
       "3658          0    1     2  \n",
       "3865          0    2     0  \n",
       "386           0    2     2  \n",
       "1204          0    2     0  \n",
       "4570          0    4     4  \n",
       "\n",
       "[5 rows x 24 columns]"
      ]
     },
     "execution_count": 5,
     "metadata": {},
     "output_type": "execute_result"
    }
   ],
   "source": [
    "train_df.head()"
   ]
  },
  {
   "cell_type": "markdown",
   "id": "7b16a249",
   "metadata": {},
   "source": [
    "## A summary of the data:"
   ]
  },
  {
   "cell_type": "markdown",
   "id": "a0886a7e",
   "metadata": {},
   "source": [
    "# Explore:"
   ]
  },
  {
   "cell_type": "markdown",
   "id": "1258c283",
   "metadata": {},
   "source": [
    "### Question 1: What is the rate of churn?"
   ]
  },
  {
   "cell_type": "code",
   "execution_count": 6,
   "id": "d44ad099",
   "metadata": {},
   "outputs": [
    {
     "data": {
      "image/png": "[encoded data removed]",
      "text/plain": [
       "<Figure size 432x288 with 1 Axes>"
      ]
     },
     "metadata": {},
     "output_type": "display_data"
    }
   ],
   "source": [
    "#baseline for churn\n",
    "e.churn_pie(train_df)"
   ]
  },
  {
   "cell_type": "markdown",
   "id": "65d72364",
   "metadata": {},
   "source": [
    "explaination: stating what the viz shows"
   ]
  },
  {
   "cell_type": "markdown",
   "id": "84deca24",
   "metadata": {},
   "source": [
    "### Question 2: How does churn vary based on the makeup of a household?"
   ]
  },
  {
   "cell_type": "code",
   "execution_count": 7,
   "id": "1cd6475d",
   "metadata": {},
   "outputs": [
    {
     "data": {
      "image/png": "[encoded data removed]",
      "text/plain": [
       "<Figure size 1440x576 with 4 Axes>"
      ]
     },
     "metadata": {},
     "output_type": "display_data"
    }
   ],
   "source": [
    "#code for viz\n",
    "e.household_type_visualization(train_df)"
   ]
  },
  {
   "cell_type": "markdown",
   "id": "c1054982",
   "metadata": {},
   "source": [
    "The churn rate does vary significantly among different types of households. \n",
    "- The rate among single households is 9% higher than average, \n",
    "- dual households is 2% lower, \n",
    "- single head households is 10% lower \n",
    "- family households is a wopping 13% lower "
   ]
  },
  {
   "cell_type": "markdown",
   "id": "c2d3ec18",
   "metadata": {},
   "source": [
    "### Question 3:  Does churn rate vary between the two types of service groups?"
   ]
  },
  {
   "cell_type": "code",
   "execution_count": 8,
   "id": "3701f038",
   "metadata": {},
   "outputs": [
    {
     "data": {
      "image/png": "[encoded data removed]",
      "text/plain": [
       "<Figure size 1440x576 with 2 Axes>"
      ]
     },
     "metadata": {},
     "output_type": "display_data"
    }
   ],
   "source": [
    "#code for viz\n",
    "e.service_group_breakdown(train_df)"
   ]
  },
  {
   "cell_type": "markdown",
   "id": "c18d3c86",
   "metadata": {},
   "source": [
    "My statistics tests revelaed both groups of services have a relationship to churn, but in opposite ways. For in-hand-services, liklihood of churn increases with the number of add-ons. For out-of-sight services, the more one has the less likley they are to churn."
   ]
  },
  {
   "cell_type": "code",
   "execution_count": 9,
   "id": "cf769dd3",
   "metadata": {},
   "outputs": [
    {
     "name": "stdout",
     "output_type": "stream",
     "text": [
      "chi^2 = 110.1459\n",
      "p     = 0.0000\n"
     ]
    }
   ],
   "source": [
    "observed = pd.crosstab(train_df.ihs, train_df.churn)\n",
    "chi2, p, degf, expected = stats.chi2_contingency(observed)\n",
    "print(f'chi^2 = {chi2:.4f}')\n",
    "print(f'p     = {p:.4f}')"
   ]
  },
  {
   "cell_type": "code",
   "execution_count": 10,
   "id": "5129fb6d",
   "metadata": {},
   "outputs": [
    {
     "name": "stdout",
     "output_type": "stream",
     "text": [
      "chi^2 = 204.0386\n",
      "p     = 0.0000\n"
     ]
    }
   ],
   "source": [
    "observed = pd.crosstab(train_df.ooss, train_df.churn)\n",
    "chi2, p, degf, expected = stats.chi2_contingency(observed)\n",
    "print(f'chi^2 = {chi2:.4f}')\n",
    "print(f'p     = {p:.4f}')"
   ]
  },
  {
   "cell_type": "markdown",
   "id": "793b6a83",
   "metadata": {},
   "source": [
    "### Question 4: What is the Percentage Breakdown of the Out Of Sight Services?\n"
   ]
  },
  {
   "cell_type": "code",
   "execution_count": 11,
   "id": "ddcab0cf",
   "metadata": {},
   "outputs": [
    {
     "data": {
      "image/png": "[encoded data removed]",
      "text/plain": [
       "<Figure size 432x288 with 1 Axes>"
      ]
     },
     "metadata": {},
     "output_type": "display_data"
    }
   ],
   "source": [
    "#code for viz\n",
    "e.OOSS_breakdown(train_df)"
   ]
  },
  {
   "cell_type": "markdown",
   "id": "dac835f2",
   "metadata": {},
   "source": [
    "This shows the breakdown of the out of sight services. "
   ]
  },
  {
   "cell_type": "code",
   "execution_count": null,
   "id": "21668921",
   "metadata": {},
   "outputs": [],
   "source": []
  },
  {
   "cell_type": "markdown",
   "id": "7bc91cac",
   "metadata": {},
   "source": [
    "# Exploration Summary:"
   ]
  },
  {
   "cell_type": "markdown",
   "id": "8f6ec7d2",
   "metadata": {},
   "source": [
    "Through my data exploration I have found the top driver of churn to be not having dependents. Since we cannot sell people children to reduce churn, I looked into what services people who churn at a higher than expected rate tend to have. I have found a threshold for a higher than expected churn rate to vary among the household types. Single, dual-head, and single head household have a much lower churn rate if they have more than 1 out of sight service. Family households have a much lower than expected churn rate if they have more than 2 out of sight services. "
   ]
  },
  {
   "cell_type": "markdown",
   "id": "e30719cb",
   "metadata": {},
   "source": [
    "# Features I am moving to Modeling: \n",
    "### online security, online backup, device protection, tech support, Out of Sight Services"
   ]
  },
  {
   "cell_type": "code",
   "execution_count": 12,
   "id": "2bf6074c",
   "metadata": {},
   "outputs": [
    {
     "data": {
      "text/plain": [
       "No     0.73472\n",
       "Yes    0.26528\n",
       "Name: churn, dtype: float64"
      ]
     },
     "execution_count": 12,
     "metadata": {},
     "output_type": "execute_result"
    }
   ],
   "source": [
    "# refernce for baseline accuracy\n",
    "train_df.churn.value_counts(normalize = True)"
   ]
  },
  {
   "cell_type": "markdown",
   "id": "409173f0",
   "metadata": {},
   "source": [
    "# Modeling:"
   ]
  },
  {
   "cell_type": "code",
   "execution_count": 13,
   "id": "4cd11e52",
   "metadata": {},
   "outputs": [],
   "source": [
    "model_ready_data = m.model_dataframe(clean_data)"
   ]
  },
  {
   "cell_type": "code",
   "execution_count": 14,
   "id": "254122b8",
   "metadata": {},
   "outputs": [],
   "source": [
    "train_X, validate_X, test_X, train_y, validate_y, test_y = m.final_split(model_ready_data, \"churn\")"
   ]
  },
  {
   "cell_type": "markdown",
   "id": "4f276451",
   "metadata": {},
   "source": [
    "### Decision tree"
   ]
  },
  {
   "cell_type": "code",
   "execution_count": 15,
   "id": "47ed7230",
   "metadata": {},
   "outputs": [
    {
     "name": "stdout",
     "output_type": "stream",
     "text": [
      "Accuracy of Decision Tree statistical model on training data is 0.7347197565305605\n",
      "Accuracy of Decision Tree statistical model on validation data is 0.7344766410408042\n"
     ]
    }
   ],
   "source": [
    "m.decision_tree(train_X, validate_X, train_y, validate_y)"
   ]
  },
  {
   "cell_type": "markdown",
   "id": "d15eccbd",
   "metadata": {},
   "source": [
    "### Random Forest"
   ]
  },
  {
   "cell_type": "code",
   "execution_count": 16,
   "id": "5fe1e0ee",
   "metadata": {},
   "outputs": [
    {
     "name": "stdout",
     "output_type": "stream",
     "text": [
      "Accuracy of Random Forest statistical model on training data is 0.7347197565305605\n",
      "Accuracy of Random Forest statistical model on validation data is 0.7344766410408042\n"
     ]
    }
   ],
   "source": [
    "m.random_forest(train_X, validate_X, train_y, validate_y)"
   ]
  },
  {
   "cell_type": "markdown",
   "id": "60f9b2f8",
   "metadata": {},
   "source": [
    "### Logistic Regression"
   ]
  },
  {
   "cell_type": "code",
   "execution_count": 17,
   "id": "25452c8b",
   "metadata": {},
   "outputs": [
    {
     "name": "stdout",
     "output_type": "stream",
     "text": [
      "Accuracy of Logistic Regression on train is 0.7347197565305605\n",
      "Accuracy of Logistic Regression on validate is 0.7344766410408042\n"
     ]
    }
   ],
   "source": [
    "m.log_reg(train_X, validate_X, train_y, validate_y)"
   ]
  },
  {
   "cell_type": "markdown",
   "id": "802926cd",
   "metadata": {},
   "source": [
    "## Comparing models"
   ]
  },
  {
   "cell_type": "markdown",
   "id": "47a4e296",
   "metadata": {},
   "source": [
    "# Model on Test Set"
   ]
  },
  {
   "cell_type": "markdown",
   "id": "87917882",
   "metadata": {},
   "source": [
    "### Modeling Summary:"
   ]
  },
  {
   "cell_type": "code",
   "execution_count": 18,
   "id": "7f990ea9",
   "metadata": {},
   "outputs": [
    {
     "name": "stdout",
     "output_type": "stream",
     "text": [
      "Accuracy of Logistic Regression on train is 0.7374024130589071\n"
     ]
    }
   ],
   "source": [
    "m.log_test(test_X, test_y)"
   ]
  },
  {
   "cell_type": "markdown",
   "id": "97f0def3",
   "metadata": {},
   "source": [
    "# Conclusions:\n",
    "\n",
    "Although there are strong correlations between household types and churn, and strong correlation between in hand services and out of sight services and churn, my data analysis and machine learning models could not conclude these as drivers of churn. "
   ]
  },
  {
   "cell_type": "markdown",
   "id": "684318a4",
   "metadata": {},
   "source": [
    "### Exploration:\n",
    "- In my exploration I discovered a few significant indicators of churn. If a customer is single and has less than two of the out of sight services they are likely to churn. If a cutomer has a family and more than three out of sight services they are very unlikely to churn. "
   ]
  },
  {
   "cell_type": "markdown",
   "id": "b4abf2bd",
   "metadata": {},
   "source": [
    "### Recommendations:\n",
    "- I recommend that a way to prevent churn is to markey out of sight products to current customers. \n",
    "- I believe more can be learned through further exploration of of correlations. \n",
    "- I believe through studying correlations we can discover certain thresholds that reduce the likleyhood of churn. "
   ]
  },
  {
   "cell_type": "markdown",
   "id": "f747839b",
   "metadata": {},
   "source": [
    "### Next Steps:\n",
    "- Re-evaluate the data\n",
    "- Re-test the models on different features\n",
    "- Scrub this project and build it again from the bottom."
   ]
  },
  {
   "cell_type": "code",
   "execution_count": null,
   "id": "f2fff8e6",
   "metadata": {},
   "outputs": [],
   "source": []
  }
 ],
 "metadata": {
  "kernelspec": {
   "display_name": "Python 3 (ipykernel)",
   "language": "python",
   "name": "python3"
  },
  "language_info": {
   "codemirror_mode": {
    "name": "ipython",
    "version": 3
   },
   "file_extension": ".py",
   "mimetype": "text/x-python",
   "name": "python",
   "nbconvert_exporter": "python",
   "pygments_lexer": "ipython3",
   "version": "3.9.12"
  }
 },
 "nbformat": 4,
 "nbformat_minor": 5
}
