{
 "cells": [
  {
   "cell_type": "code",
   "execution_count": 1,
   "id": "a719cc7f",
   "metadata": {},
   "outputs": [],
   "source": [
    "import pandas as pd\n",
    "import seaborn as sns\n",
    "from pydataset import data\n",
    "import numpy as np\n",
    "import os\n",
    "import scipy.stats as stats\n",
    "import matplotlib.pyplot as plt\n",
    "\n",
    "\n",
    "from sklearn.model_selection import train_test_split\n",
    "from sklearn.metrics import classification_report\n",
    "from sklearn.metrics import confusion_matrix\n",
    "\n",
    "from sklearn.linear_model import LogisticRegression\n",
    "from sklearn.tree import DecisionTreeClassifier, plot_tree\n",
    "from sklearn.ensemble import RandomForestClassifier\n",
    "from sklearn.neighbors import KNeighborsClassifier\n",
    "\n",
    "\n",
    "#turn off pink warning boxes\n",
    "import warnings\n",
    "warnings.filterwarnings(\"ignore\")\n",
    "\n",
    "import wrangle as w\n",
    "from env import get_db_url\n",
    "\n",
    "alpha = 0.5"
   ]
  },
  {
   "cell_type": "code",
   "execution_count": 2,
   "id": "b264dfdc",
   "metadata": {},
   "outputs": [],
   "source": [
    "df = pd.read_sql('SELECT * FROM customers', get_db_url('telco_churn'))"
   ]
  },
  {
   "cell_type": "code",
   "execution_count": 3,
   "id": "61bef560",
   "metadata": {},
   "outputs": [
    {
     "data": {
      "text/html": [
       "<div>\n",
       "<style scoped>\n",
       "    .dataframe tbody tr th:only-of-type {\n",
       "        vertical-align: middle;\n",
       "    }\n",
       "\n",
       "    .dataframe tbody tr th {\n",
       "        vertical-align: top;\n",
       "    }\n",
       "\n",
       "    .dataframe thead th {\n",
       "        text-align: right;\n",
       "    }\n",
       "</style>\n",
       "<table border=\"1\" class=\"dataframe\">\n",
       "  <thead>\n",
       "    <tr style=\"text-align: right;\">\n",
       "      <th></th>\n",
       "      <th>customer_id</th>\n",
       "      <th>gender</th>\n",
       "      <th>senior_citizen</th>\n",
       "      <th>partner</th>\n",
       "      <th>dependents</th>\n",
       "      <th>tenure</th>\n",
       "      <th>phone_service</th>\n",
       "      <th>multiple_lines</th>\n",
       "      <th>internet</th>\n",
       "      <th>online_security</th>\n",
       "      <th>...</th>\n",
       "      <th>family_house</th>\n",
       "      <th>single_head_house</th>\n",
       "      <th>gender_Male</th>\n",
       "      <th>partner_Yes</th>\n",
       "      <th>dependents_Yes</th>\n",
       "      <th>phone_service_Yes</th>\n",
       "      <th>paperless_billing_Yes</th>\n",
       "      <th>churn_Yes</th>\n",
       "      <th>ihs</th>\n",
       "      <th>ooss</th>\n",
       "    </tr>\n",
       "  </thead>\n",
       "  <tbody>\n",
       "    <tr>\n",
       "      <th>0</th>\n",
       "      <td>0002-ORFBO</td>\n",
       "      <td>Female</td>\n",
       "      <td>0</td>\n",
       "      <td>Yes</td>\n",
       "      <td>Yes</td>\n",
       "      <td>9</td>\n",
       "      <td>Yes</td>\n",
       "      <td>0</td>\n",
       "      <td>1</td>\n",
       "      <td>0</td>\n",
       "      <td>...</td>\n",
       "      <td>True</td>\n",
       "      <td>False</td>\n",
       "      <td>0</td>\n",
       "      <td>1</td>\n",
       "      <td>1</td>\n",
       "      <td>1</td>\n",
       "      <td>1</td>\n",
       "      <td>0</td>\n",
       "      <td>3</td>\n",
       "      <td>2</td>\n",
       "    </tr>\n",
       "    <tr>\n",
       "      <th>1</th>\n",
       "      <td>0003-MKNFE</td>\n",
       "      <td>Male</td>\n",
       "      <td>0</td>\n",
       "      <td>No</td>\n",
       "      <td>No</td>\n",
       "      <td>9</td>\n",
       "      <td>Yes</td>\n",
       "      <td>1</td>\n",
       "      <td>1</td>\n",
       "      <td>0</td>\n",
       "      <td>...</td>\n",
       "      <td>False</td>\n",
       "      <td>False</td>\n",
       "      <td>1</td>\n",
       "      <td>0</td>\n",
       "      <td>0</td>\n",
       "      <td>1</td>\n",
       "      <td>0</td>\n",
       "      <td>0</td>\n",
       "      <td>4</td>\n",
       "      <td>0</td>\n",
       "    </tr>\n",
       "    <tr>\n",
       "      <th>2</th>\n",
       "      <td>0004-TLHLJ</td>\n",
       "      <td>Male</td>\n",
       "      <td>0</td>\n",
       "      <td>No</td>\n",
       "      <td>No</td>\n",
       "      <td>4</td>\n",
       "      <td>Yes</td>\n",
       "      <td>0</td>\n",
       "      <td>1</td>\n",
       "      <td>0</td>\n",
       "      <td>...</td>\n",
       "      <td>False</td>\n",
       "      <td>False</td>\n",
       "      <td>1</td>\n",
       "      <td>0</td>\n",
       "      <td>0</td>\n",
       "      <td>1</td>\n",
       "      <td>1</td>\n",
       "      <td>1</td>\n",
       "      <td>2</td>\n",
       "      <td>1</td>\n",
       "    </tr>\n",
       "    <tr>\n",
       "      <th>3</th>\n",
       "      <td>0011-IGKFF</td>\n",
       "      <td>Male</td>\n",
       "      <td>1</td>\n",
       "      <td>Yes</td>\n",
       "      <td>No</td>\n",
       "      <td>13</td>\n",
       "      <td>Yes</td>\n",
       "      <td>0</td>\n",
       "      <td>1</td>\n",
       "      <td>0</td>\n",
       "      <td>...</td>\n",
       "      <td>False</td>\n",
       "      <td>False</td>\n",
       "      <td>1</td>\n",
       "      <td>1</td>\n",
       "      <td>0</td>\n",
       "      <td>1</td>\n",
       "      <td>1</td>\n",
       "      <td>1</td>\n",
       "      <td>4</td>\n",
       "      <td>2</td>\n",
       "    </tr>\n",
       "    <tr>\n",
       "      <th>4</th>\n",
       "      <td>0013-EXCHZ</td>\n",
       "      <td>Female</td>\n",
       "      <td>1</td>\n",
       "      <td>Yes</td>\n",
       "      <td>No</td>\n",
       "      <td>3</td>\n",
       "      <td>Yes</td>\n",
       "      <td>0</td>\n",
       "      <td>1</td>\n",
       "      <td>0</td>\n",
       "      <td>...</td>\n",
       "      <td>False</td>\n",
       "      <td>False</td>\n",
       "      <td>0</td>\n",
       "      <td>1</td>\n",
       "      <td>0</td>\n",
       "      <td>1</td>\n",
       "      <td>1</td>\n",
       "      <td>1</td>\n",
       "      <td>3</td>\n",
       "      <td>1</td>\n",
       "    </tr>\n",
       "  </tbody>\n",
       "</table>\n",
       "<p>5 rows × 38 columns</p>\n",
       "</div>"
      ],
      "text/plain": [
       "  customer_id  gender  senior_citizen partner dependents  tenure  \\\n",
       "0  0002-ORFBO  Female               0     Yes        Yes       9   \n",
       "1  0003-MKNFE    Male               0      No         No       9   \n",
       "2  0004-TLHLJ    Male               0      No         No       4   \n",
       "3  0011-IGKFF    Male               1     Yes         No      13   \n",
       "4  0013-EXCHZ  Female               1     Yes         No       3   \n",
       "\n",
       "  phone_service  multiple_lines  internet  online_security  ...  family_house  \\\n",
       "0           Yes               0         1                0  ...          True   \n",
       "1           Yes               1         1                0  ...         False   \n",
       "2           Yes               0         1                0  ...         False   \n",
       "3           Yes               0         1                0  ...         False   \n",
       "4           Yes               0         1                0  ...         False   \n",
       "\n",
       "   single_head_house  gender_Male  partner_Yes  dependents_Yes  \\\n",
       "0              False            0            1               1   \n",
       "1              False            1            0               0   \n",
       "2              False            1            0               0   \n",
       "3              False            1            1               0   \n",
       "4              False            0            1               0   \n",
       "\n",
       "   phone_service_Yes paperless_billing_Yes  churn_Yes  ihs  ooss  \n",
       "0                  1                     1          0    3     2  \n",
       "1                  1                     0          0    4     0  \n",
       "2                  1                     1          1    2     1  \n",
       "3                  1                     1          1    4     2  \n",
       "4                  1                     1          1    3     1  \n",
       "\n",
       "[5 rows x 38 columns]"
      ]
     },
     "execution_count": 3,
     "metadata": {},
     "output_type": "execute_result"
    }
   ],
   "source": [
    "raw_data = get_telco_data()"
   ]
  },
  {
   "cell_type": "markdown",
   "id": "92bbcc13",
   "metadata": {},
   "source": [
    "##########################################################################################################"
   ]
  },
  {
   "cell_type": "code",
   "execution_count": null,
   "id": "678597c3",
   "metadata": {},
   "outputs": [],
   "source": [
    "single_df = prepare.single_house(train_df)"
   ]
  },
  {
   "cell_type": "code",
   "execution_count": null,
   "id": "60223dba",
   "metadata": {},
   "outputs": [],
   "source": [
    "single_df.head()"
   ]
  },
  {
   "cell_type": "code",
   "execution_count": null,
   "id": "4db10ec1",
   "metadata": {},
   "outputs": [],
   "source": [
    "dual_df = w.dual_house(train_df)"
   ]
  },
  {
   "cell_type": "code",
   "execution_count": null,
   "id": "5658bf4e",
   "metadata": {},
   "outputs": [],
   "source": [
    "dual_df.head()"
   ]
  },
  {
   "cell_type": "code",
   "execution_count": null,
   "id": "3354c90f",
   "metadata": {},
   "outputs": [],
   "source": [
    "family_df = w.family_house(train_df)"
   ]
  },
  {
   "cell_type": "code",
   "execution_count": null,
   "id": "1467662b",
   "metadata": {},
   "outputs": [],
   "source": [
    "family_df.head()"
   ]
  },
  {
   "cell_type": "code",
   "execution_count": null,
   "id": "5656575b",
   "metadata": {},
   "outputs": [],
   "source": [
    "single_head_house_df = w.single_head_house(train_df)"
   ]
  },
  {
   "cell_type": "code",
   "execution_count": null,
   "id": "8999ef23",
   "metadata": {},
   "outputs": [],
   "source": [
    "train_df.head()"
   ]
  },
  {
   "cell_type": "markdown",
   "id": "d9932bbb",
   "metadata": {},
   "source": [
    "### Single exploration"
   ]
  },
  {
   "cell_type": "markdown",
   "id": "57a363dd",
   "metadata": {},
   "source": [
    "exploring the relationship between in-hand-services and churn among single households\n",
    "\n",
    "- H_0: ihs of single households who churn >= ihs of single households who do not churn\n",
    "- H_a: ihs of single households who churn < ihs of single households who do not churn"
   ]
  },
  {
   "cell_type": "code",
   "execution_count": null,
   "id": "72e2b51f",
   "metadata": {},
   "outputs": [],
   "source": [
    "single_df.ihs.hist()"
   ]
  },
  {
   "cell_type": "code",
   "execution_count": null,
   "id": "e1939308",
   "metadata": {},
   "outputs": [],
   "source": [
    "churn_sample_single = single_df[single_df.churn == 'Yes'].ihs\n",
    "\n",
    "churn_sample_single.hist()"
   ]
  },
  {
   "cell_type": "code",
   "execution_count": null,
   "id": "76029c43",
   "metadata": {},
   "outputs": [],
   "source": [
    "alpha = 0.5"
   ]
  },
  {
   "cell_type": "code",
   "execution_count": null,
   "id": "ec4babf9",
   "metadata": {},
   "outputs": [],
   "source": [
    "single_df.churn.value_counts(normalize = True)"
   ]
  },
  {
   "cell_type": "code",
   "execution_count": null,
   "id": "8a04b1d2",
   "metadata": {},
   "outputs": [],
   "source": [
    "\n",
    "churn_sample_single = single_df[single_df.churn == 'Yes'].ihs\n",
    "overall_mean_single = single_df.ihs.mean()\n",
    "\n",
    "t, p = stats.ttest_1samp(churn_sample_single, overall_mean_single)\n",
    "\n",
    "print(t, p/2, alpha)"
   ]
  },
  {
   "cell_type": "code",
   "execution_count": null,
   "id": "cb75ae25",
   "metadata": {},
   "outputs": [],
   "source": [
    "if p/2 > alpha:\n",
    "    print(\"We fail to reject $H_{0}$\")\n",
    "elif t < 0:\n",
    "    print(\"We fail to reject $H_{0}$\")\n",
    "else:\n",
    "    print(\"We reject $H_{0}$\")"
   ]
  },
  {
   "cell_type": "markdown",
   "id": "925f6177",
   "metadata": {},
   "source": [
    "by rejecting the null hypothesis, we affirm that among single households, those who churn have less in-hand-services than those who do not churn."
   ]
  },
  {
   "cell_type": "markdown",
   "id": "924b20d0",
   "metadata": {},
   "source": [
    "#### here we are comparing out of sight services of churn and not churn among single households\n",
    "\n",
    "- H_0: ooss of those who churn >= ooss of those who do not churn among single households\n",
    "- H_a: ooss of those who churn < ooss of those who do not churn among single households"
   ]
  },
  {
   "cell_type": "code",
   "execution_count": null,
   "id": "cf63edd8",
   "metadata": {},
   "outputs": [],
   "source": [
    "churn_sample_single = single_df[single_df.churn == 'Yes'].ooss\n",
    "overall_mean_single = single_df.ooss.mean()\n",
    "\n",
    "t, p = stats.ttest_1samp(churn_sample_single, overall_mean_single)\n",
    "\n",
    "print(t, p/2, alpha)"
   ]
  },
  {
   "cell_type": "code",
   "execution_count": null,
   "id": "237b9490",
   "metadata": {},
   "outputs": [],
   "source": [
    "if p/2 > alpha:\n",
    "    print(\"We fail to reject $H_{0}$\")\n",
    "elif t < 0:\n",
    "    print(\"We fail to reject $H_{0}$\")\n",
    "else:\n",
    "    print(\"We reject $H_{0}$\")"
   ]
  },
  {
   "cell_type": "code",
   "execution_count": null,
   "id": "f9b97900",
   "metadata": {},
   "outputs": [],
   "source": [
    "churn_sample_single = single_df[single_df.churn == 'Yes'].ooss\n",
    "\n",
    "churn_sample_single.hist()"
   ]
  },
  {
   "cell_type": "markdown",
   "id": "b91c8b85",
   "metadata": {},
   "source": [
    "From this we can infer that people are more satisfied the more ooss they have"
   ]
  },
  {
   "cell_type": "code",
   "execution_count": null,
   "id": "abffe5e4",
   "metadata": {},
   "outputs": [],
   "source": []
  },
  {
   "cell_type": "code",
   "execution_count": null,
   "id": "5610c156",
   "metadata": {},
   "outputs": [],
   "source": []
  },
  {
   "cell_type": "code",
   "execution_count": null,
   "id": "7c90979b",
   "metadata": {},
   "outputs": [],
   "source": []
  },
  {
   "cell_type": "markdown",
   "id": "0d0c6b73",
   "metadata": {},
   "source": [
    "### Family Exploration"
   ]
  },
  {
   "cell_type": "markdown",
   "id": "abe696de",
   "metadata": {},
   "source": [
    "exploring the relationship between in-hand-services and churn among family households\n",
    "\n",
    "- H_0 : ihs of family households who churn >= ihs of family households who do not churn\n",
    "- H_a: ihs of family households who churn < ihs of family households who do not churn"
   ]
  },
  {
   "cell_type": "code",
   "execution_count": null,
   "id": "d52a5f82",
   "metadata": {},
   "outputs": [],
   "source": [
    "single_df.churn.value_counts()\n"
   ]
  },
  {
   "cell_type": "code",
   "execution_count": null,
   "id": "6c4261e1",
   "metadata": {},
   "outputs": [],
   "source": [
    "family_df.ooss.hist()"
   ]
  },
  {
   "cell_type": "code",
   "execution_count": null,
   "id": "71176d36",
   "metadata": {},
   "outputs": [],
   "source": [
    "single_df.ihs.hist()"
   ]
  },
  {
   "cell_type": "code",
   "execution_count": null,
   "id": "6ca7d4a0",
   "metadata": {},
   "outputs": [],
   "source": [
    "single_df.ooss.hist()"
   ]
  },
  {
   "cell_type": "code",
   "execution_count": null,
   "id": "3bb65b62",
   "metadata": {},
   "outputs": [],
   "source": [
    "churn_sample_family = family_df[family_df.churn == 'Yes'].ihs\n",
    "\n",
    "churn_sample_family.hist()"
   ]
  },
  {
   "cell_type": "code",
   "execution_count": null,
   "id": "7db0910d",
   "metadata": {},
   "outputs": [],
   "source": [
    "churn_sample_family = family_df[family_df.churn == 'Yes'].ihs\n",
    "overall_mean_family = family_df.ihs.mean()\n",
    "\n",
    "t, p = stats.ttest_1samp(churn_sample_family, overall_mean_family)\n",
    "\n",
    "print(t, p/2, alpha)"
   ]
  },
  {
   "cell_type": "code",
   "execution_count": null,
   "id": "3f963831",
   "metadata": {},
   "outputs": [],
   "source": [
    "if p/2 > alpha:\n",
    "    print(\"We fail to reject $H_{0}$\")\n",
    "elif t < 0:\n",
    "    print(\"We fail to reject $H_{0}$\")\n",
    "else:\n",
    "    print(\"We reject $H_{0}$\")"
   ]
  },
  {
   "cell_type": "markdown",
   "id": "1d278770",
   "metadata": {},
   "source": [
    "by failing to reject the null hypothesis, we recognize there is no relationship between churn and ihs among families"
   ]
  },
  {
   "cell_type": "code",
   "execution_count": null,
   "id": "23ded12a",
   "metadata": {},
   "outputs": [],
   "source": [
    "churn_sample_family = family_df[family_df.churn == 'Yes'].ooss\n",
    "\n",
    "churn_sample_family.hist()"
   ]
  },
  {
   "cell_type": "markdown",
   "id": "c4692d4f",
   "metadata": {},
   "source": [
    "people tend to be more satisfied with more ooss"
   ]
  },
  {
   "cell_type": "markdown",
   "id": "59eeec9c",
   "metadata": {},
   "source": [
    "###############################################################################################################\n"
   ]
  },
  {
   "cell_type": "code",
   "execution_count": null,
   "id": "19df7f8f",
   "metadata": {},
   "outputs": [],
   "source": [
    "train_df.head()"
   ]
  },
  {
   "cell_type": "code",
   "execution_count": null,
   "id": "96ba2b00",
   "metadata": {},
   "outputs": [],
   "source": [
    "train_df.ihs.hist()"
   ]
  },
  {
   "cell_type": "code",
   "execution_count": null,
   "id": "9e46ab33",
   "metadata": {},
   "outputs": [],
   "source": [
    "train_df.ooss.hist()"
   ]
  },
  {
   "cell_type": "code",
   "execution_count": null,
   "id": "1bf188db",
   "metadata": {},
   "outputs": [],
   "source": [
    "train_df[train_df.churn == 'Yes'].ihs.hist()"
   ]
  },
  {
   "cell_type": "code",
   "execution_count": null,
   "id": "1945d3c6",
   "metadata": {},
   "outputs": [],
   "source": [
    "train_df[train_df.churn == 'Yes'].ooss.hist()"
   ]
  },
  {
   "cell_type": "markdown",
   "id": "903fff8d",
   "metadata": {},
   "source": [
    "#### some chi-squared"
   ]
  },
  {
   "cell_type": "code",
   "execution_count": null,
   "id": "f4c4f2b1",
   "metadata": {},
   "outputs": [],
   "source": [
    "observed = pd.crosstab(single_head_house_df.ooss, single_head_house_df.churn)\n",
    "observed"
   ]
  },
  {
   "cell_type": "code",
   "execution_count": null,
   "id": "9b5e8ecd",
   "metadata": {},
   "outputs": [],
   "source": [
    "stats.chi2_contingency(observed)"
   ]
  },
  {
   "cell_type": "code",
   "execution_count": null,
   "id": "0bdea9c9",
   "metadata": {},
   "outputs": [],
   "source": [
    "chi2, p, degf, expected = stats.chi2_contingency(observed)"
   ]
  },
  {
   "cell_type": "code",
   "execution_count": null,
   "id": "942b6d8b",
   "metadata": {},
   "outputs": [],
   "source": [
    "print('Observed')\n",
    "print(observed.values)\n",
    "print('\\nExpected')\n",
    "print(expected.astype(int))\n",
    "print('\\n----')\n",
    "print(f'chi^2 = {chi2:.4f}')\n",
    "print(f'p     = {p:.4f}')"
   ]
  },
  {
   "cell_type": "markdown",
   "id": "c8ad4b3a",
   "metadata": {},
   "source": [
    "#### considering monthly charges"
   ]
  },
  {
   "cell_type": "code",
   "execution_count": null,
   "id": "247e8b6a",
   "metadata": {},
   "outputs": [],
   "source": [
    "observed = pd.crosstab(family_df.charge_bins, family_df.ihs)\n",
    "observed"
   ]
  },
  {
   "cell_type": "code",
   "execution_count": null,
   "id": "7342f90e",
   "metadata": {},
   "outputs": [],
   "source": [
    "stats.chi2_contingency(observed)"
   ]
  },
  {
   "cell_type": "code",
   "execution_count": null,
   "id": "d14e93e6",
   "metadata": {},
   "outputs": [],
   "source": [
    "chi2, p, degf, expected = stats.chi2_contingency(observed)"
   ]
  },
  {
   "cell_type": "code",
   "execution_count": null,
   "id": "2c57d4d9",
   "metadata": {},
   "outputs": [],
   "source": [
    "print('Observed')\n",
    "print(observed.values)\n",
    "print('\\nExpected')\n",
    "print(expected.astype(int))\n",
    "print('\\n----')\n",
    "print(f'chi^2 = {chi2:.4f}')\n",
    "print(f'p     = {p:.4f}')"
   ]
  },
  {
   "cell_type": "code",
   "execution_count": null,
   "id": "a15e4b59",
   "metadata": {},
   "outputs": [],
   "source": [
    "observed = pd.crosstab(single_df.charge_bins, single_df.ihs)\n",
    "observed"
   ]
  },
  {
   "cell_type": "markdown",
   "id": "c5e4781d",
   "metadata": {},
   "source": [
    "## baseline stats"
   ]
  },
  {
   "cell_type": "code",
   "execution_count": null,
   "id": "981d4478",
   "metadata": {},
   "outputs": [],
   "source": [
    "single_df.churn.value_counts(normalize = True)"
   ]
  },
  {
   "cell_type": "code",
   "execution_count": null,
   "id": "54d44d5f",
   "metadata": {},
   "outputs": [],
   "source": [
    "family_df.churn.value_counts(normalize = True)"
   ]
  },
  {
   "cell_type": "code",
   "execution_count": null,
   "id": "00a8cf88",
   "metadata": {},
   "outputs": [],
   "source": [
    "dual_df.churn.value_counts(normalize = True)"
   ]
  },
  {
   "cell_type": "code",
   "execution_count": null,
   "id": "0233c25a",
   "metadata": {},
   "outputs": [],
   "source": [
    "single_head_house_df.churn.value_counts(normalize = True)"
   ]
  },
  {
   "cell_type": "code",
   "execution_count": null,
   "id": "0c54e95e",
   "metadata": {},
   "outputs": [],
   "source": [
    "train_df.churn.value_counts(normalize = True)"
   ]
  },
  {
   "cell_type": "code",
   "execution_count": null,
   "id": "53a1e2be",
   "metadata": {},
   "outputs": [],
   "source": [
    "train_df.ooss.value_counts(normalize = True)"
   ]
  },
  {
   "cell_type": "code",
   "execution_count": null,
   "id": "062f1c2d",
   "metadata": {},
   "outputs": [],
   "source": [
    "family_df.ooss.value_counts(normalize = True)"
   ]
  },
  {
   "cell_type": "code",
   "execution_count": null,
   "id": "23fb66da",
   "metadata": {},
   "outputs": [],
   "source": [
    "single_df.ooss.value_counts(normalize = True)"
   ]
  },
  {
   "cell_type": "code",
   "execution_count": null,
   "id": "d1bd1cb1",
   "metadata": {},
   "outputs": [],
   "source": [
    "dual_df.ooss.value_counts(normalize = True)"
   ]
  },
  {
   "cell_type": "code",
   "execution_count": null,
   "id": "f686dac4",
   "metadata": {},
   "outputs": [],
   "source": [
    "single_head_house_df.ooss.value_counts(normalize = True)"
   ]
  },
  {
   "cell_type": "code",
   "execution_count": null,
   "id": "bdb79374",
   "metadata": {},
   "outputs": [],
   "source": [
    "train_df.online_security.value_counts(normalize = True)"
   ]
  },
  {
   "cell_type": "code",
   "execution_count": null,
   "id": "c0ae5c63",
   "metadata": {},
   "outputs": [],
   "source": []
  }
 ],
 "metadata": {
  "kernelspec": {
   "display_name": "Python 3 (ipykernel)",
   "language": "python",
   "name": "python3"
  },
  "language_info": {
   "codemirror_mode": {
    "name": "ipython",
    "version": 3
   },
   "file_extension": ".py",
   "mimetype": "text/x-python",
   "name": "python",
   "nbconvert_exporter": "python",
   "pygments_lexer": "ipython3",
   "version": "3.9.12"
  }
 },
 "nbformat": 4,
 "nbformat_minor": 5
}
