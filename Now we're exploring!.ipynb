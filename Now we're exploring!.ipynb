{
 "cells": [
  {
   "cell_type": "code",
   "execution_count": 1,
   "id": "a719cc7f",
   "metadata": {},
   "outputs": [],
   "source": [
    "import pandas as pd\n",
    "import seaborn as sns\n",
    "from pydataset import data\n",
    "import numpy as np\n",
    "import os\n",
    "import scipy.stats as stats\n",
    "import matplotlib.pyplot as plt\n",
    "\n",
    "\n",
    "from sklearn.model_selection import train_test_split\n",
    "from sklearn.metrics import classification_report\n",
    "from sklearn.metrics import confusion_matrix\n",
    "\n",
    "from sklearn.linear_model import LogisticRegression\n",
    "from sklearn.tree import DecisionTreeClassifier, plot_tree\n",
    "from sklearn.ensemble import RandomForestClassifier\n",
    "from sklearn.neighbors import KNeighborsClassifier\n",
    "\n",
    "\n",
    "#turn off pink warning boxes\n",
    "import warnings\n",
    "warnings.filterwarnings(\"ignore\")\n",
    "\n",
    "import prepare as p\n",
    "import wrangle as w\n",
    "from env import get_db_url\n",
    "\n",
    "alpha = 0.5"
   ]
  },
  {
   "cell_type": "code",
   "execution_count": 2,
   "id": "b264dfdc",
   "metadata": {},
   "outputs": [],
   "source": [
    "df = pd.read_sql('SELECT * FROM customers', get_db_url('telco_churn'))"
   ]
  },
  {
   "cell_type": "code",
   "execution_count": 3,
   "id": "61bef560",
   "metadata": {},
   "outputs": [],
   "source": [
    "raw_data = w.get_telco_data()"
   ]
  },
  {
   "cell_type": "code",
   "execution_count": 4,
   "id": "9c2562d7",
   "metadata": {},
   "outputs": [],
   "source": [
    "clean_data = w.prep_telco_data(raw_data)"
   ]
  },
  {
   "cell_type": "code",
   "execution_count": 5,
   "id": "e59ea481",
   "metadata": {},
   "outputs": [],
   "source": [
    "train_df, validate_df, split_df = w.split_telco_data(clean_data)"
   ]
  },
  {
   "cell_type": "code",
   "execution_count": null,
   "id": "daec3130",
   "metadata": {},
   "outputs": [],
   "source": []
  },
  {
   "cell_type": "markdown",
   "id": "92bbcc13",
   "metadata": {},
   "source": [
    "##########################################################################################################"
   ]
  },
  {
   "cell_type": "code",
   "execution_count": 6,
   "id": "678597c3",
   "metadata": {},
   "outputs": [],
   "source": [
    "single_df = p.single_house(train_df)"
   ]
  },
  {
   "cell_type": "code",
   "execution_count": null,
   "id": "60223dba",
   "metadata": {},
   "outputs": [],
   "source": [
    "single_df.head()"
   ]
  },
  {
   "cell_type": "code",
   "execution_count": 7,
   "id": "4db10ec1",
   "metadata": {},
   "outputs": [],
   "source": [
    "dual_df = p.dual_house(train_df)"
   ]
  },
  {
   "cell_type": "code",
   "execution_count": null,
   "id": "5658bf4e",
   "metadata": {},
   "outputs": [],
   "source": [
    "dual_df.head()"
   ]
  },
  {
   "cell_type": "code",
   "execution_count": 8,
   "id": "3354c90f",
   "metadata": {},
   "outputs": [],
   "source": [
    "family_df = p.family_house(train_df)"
   ]
  },
  {
   "cell_type": "code",
   "execution_count": null,
   "id": "1467662b",
   "metadata": {},
   "outputs": [],
   "source": [
    "family_df.head()"
   ]
  },
  {
   "cell_type": "code",
   "execution_count": 9,
   "id": "5656575b",
   "metadata": {},
   "outputs": [],
   "source": [
    "single_head_house_df = p.single_head_house(train_df)"
   ]
  },
  {
   "cell_type": "code",
   "execution_count": null,
   "id": "8999ef23",
   "metadata": {},
   "outputs": [],
   "source": [
    "train_df.head()"
   ]
  },
  {
   "cell_type": "markdown",
   "id": "d9932bbb",
   "metadata": {},
   "source": [
    "### Single exploration"
   ]
  },
  {
   "cell_type": "markdown",
   "id": "57a363dd",
   "metadata": {},
   "source": [
    "exploring the relationship between in-hand-services and churn among single households\n",
    "\n",
    "- H_0: ihs of single households who churn >= ihs of single households who do not churn\n",
    "- H_a: ihs of single households who churn < ihs of single households who do not churn"
   ]
  },
  {
   "cell_type": "code",
   "execution_count": 10,
   "id": "72e2b51f",
   "metadata": {},
   "outputs": [
    {
     "data": {
      "text/plain": [
       "<AxesSubplot:>"
      ]
     },
     "execution_count": 10,
     "metadata": {},
     "output_type": "execute_result"
    },
    {
     "data": {
      "image/png": "[encoded data removed]",
      "text/plain": [
       "<Figure size 432x288 with 1 Axes>"
      ]
     },
     "metadata": {
      "needs_background": "light"
     },
     "output_type": "display_data"
    }
   ],
   "source": [
    "single_df.ihs.hist()"
   ]
  },
  {
   "cell_type": "code",
   "execution_count": 11,
   "id": "e1939308",
   "metadata": {},
   "outputs": [
    {
     "data": {
      "text/plain": [
       "<AxesSubplot:>"
      ]
     },
     "execution_count": 11,
     "metadata": {},
     "output_type": "execute_result"
    },
    {
     "data": {
      "image/png": "[encoded data removed]",
      "text/plain": [
       "<Figure size 432x288 with 1 Axes>"
      ]
     },
     "metadata": {
      "needs_background": "light"
     },
     "output_type": "display_data"
    }
   ],
   "source": [
    "churn_sample_single = single_df[single_df.churn == 'Yes'].ihs\n",
    "\n",
    "churn_sample_single.hist()"
   ]
  },
  {
   "cell_type": "code",
   "execution_count": 12,
   "id": "76029c43",
   "metadata": {},
   "outputs": [],
   "source": [
    "alpha = 0.5"
   ]
  },
  {
   "cell_type": "code",
   "execution_count": 13,
   "id": "ec4babf9",
   "metadata": {},
   "outputs": [
    {
     "data": {
      "text/plain": [
       "No     0.653552\n",
       "Yes    0.346448\n",
       "Name: churn, dtype: float64"
      ]
     },
     "execution_count": 13,
     "metadata": {},
     "output_type": "execute_result"
    }
   ],
   "source": [
    "single_df.churn.value_counts(normalize = True)"
   ]
  },
  {
   "cell_type": "code",
   "execution_count": 14,
   "id": "8a04b1d2",
   "metadata": {},
   "outputs": [
    {
     "name": "stdout",
     "output_type": "stream",
     "text": [
      "4.863220784219245 7.294145688580764e-07 0.5\n"
     ]
    }
   ],
   "source": [
    "\n",
    "churn_sample_single = single_df[single_df.churn == 'Yes'].ihs\n",
    "overall_mean_single = single_df.ihs.mean()\n",
    "\n",
    "t, p = stats.ttest_1samp(churn_sample_single, overall_mean_single)\n",
    "\n",
    "print(t, p/2, alpha)"
   ]
  },
  {
   "cell_type": "code",
   "execution_count": 15,
   "id": "cb75ae25",
   "metadata": {},
   "outputs": [
    {
     "name": "stdout",
     "output_type": "stream",
     "text": [
      "We reject $H_{0}$\n"
     ]
    }
   ],
   "source": [
    "if p/2 > alpha:\n",
    "    print(\"We fail to reject $H_{0}$\")\n",
    "elif t < 0:\n",
    "    print(\"We fail to reject $H_{0}$\")\n",
    "else:\n",
    "    print(\"We reject $H_{0}$\")"
   ]
  },
  {
   "cell_type": "markdown",
   "id": "925f6177",
   "metadata": {},
   "source": [
    "by rejecting the null hypothesis, we affirm that among single households, those who churn have less in-hand-services than those who do not churn."
   ]
  },
  {
   "cell_type": "markdown",
   "id": "924b20d0",
   "metadata": {},
   "source": [
    "#### here we are comparing out of sight services of churn and not churn among single households\n",
    "\n",
    "- H_0: ooss of those who churn >= ooss of those who do not churn among single households\n",
    "- H_a: ooss of those who churn < ooss of those who do not churn among single households"
   ]
  },
  {
   "cell_type": "code",
   "execution_count": null,
   "id": "cf63edd8",
   "metadata": {},
   "outputs": [],
   "source": [
    "churn_sample_single = single_df[single_df.churn == 'Yes'].ooss\n",
    "overall_mean_single = single_df.ooss.mean()\n",
    "\n",
    "t, p = stats.ttest_1samp(churn_sample_single, overall_mean_single)\n",
    "\n",
    "print(t, p/2, alpha)"
   ]
  },
  {
   "cell_type": "code",
   "execution_count": null,
   "id": "237b9490",
   "metadata": {},
   "outputs": [],
   "source": [
    "if p/2 > alpha:\n",
    "    print(\"We fail to reject $H_{0}$\")\n",
    "elif t < 0:\n",
    "    print(\"We fail to reject $H_{0}$\")\n",
    "else:\n",
    "    print(\"We reject $H_{0}$\")"
   ]
  },
  {
   "cell_type": "code",
   "execution_count": null,
   "id": "f9b97900",
   "metadata": {},
   "outputs": [],
   "source": [
    "churn_sample_single = single_df[single_df.churn == 'Yes'].ooss\n",
    "\n",
    "churn_sample_single.hist()"
   ]
  },
  {
   "cell_type": "markdown",
   "id": "b91c8b85",
   "metadata": {},
   "source": [
    "From this we can infer that people are more satisfied the more ooss they have"
   ]
  },
  {
   "cell_type": "code",
   "execution_count": null,
   "id": "abffe5e4",
   "metadata": {},
   "outputs": [],
   "source": []
  },
  {
   "cell_type": "code",
   "execution_count": null,
   "id": "5610c156",
   "metadata": {},
   "outputs": [],
   "source": []
  },
  {
   "cell_type": "code",
   "execution_count": null,
   "id": "7c90979b",
   "metadata": {},
   "outputs": [],
   "source": []
  },
  {
   "cell_type": "markdown",
   "id": "0d0c6b73",
   "metadata": {},
   "source": [
    "### Family Exploration"
   ]
  },
  {
   "cell_type": "markdown",
   "id": "abe696de",
   "metadata": {},
   "source": [
    "exploring the relationship between in-hand-services and churn among family households\n",
    "\n",
    "- H_0 : ihs of family households who churn >= ihs of family households who do not churn\n",
    "- H_a: ihs of family households who churn < ihs of family households who do not churn"
   ]
  },
  {
   "cell_type": "code",
   "execution_count": null,
   "id": "d52a5f82",
   "metadata": {},
   "outputs": [],
   "source": [
    "single_df.churn.value_counts()\n"
   ]
  },
  {
   "cell_type": "code",
   "execution_count": 29,
   "id": "6c4261e1",
   "metadata": {},
   "outputs": [
    {
     "data": {
      "text/plain": [
       "<AxesSubplot:>"
      ]
     },
     "execution_count": 29,
     "metadata": {},
     "output_type": "execute_result"
    },
    {
     "data": {
      "image/png": "[encoded data removed]",
      "text/plain": [
       "<Figure size 432x288 with 1 Axes>"
      ]
     },
     "metadata": {
      "needs_background": "light"
     },
     "output_type": "display_data"
    }
   ],
   "source": [
    "family_df.ooss.hist()"
   ]
  },
  {
   "cell_type": "code",
   "execution_count": 30,
   "id": "71176d36",
   "metadata": {},
   "outputs": [
    {
     "data": {
      "text/plain": [
       "<AxesSubplot:>"
      ]
     },
     "execution_count": 30,
     "metadata": {},
     "output_type": "execute_result"
    },
    {
     "data": {
      "image/png": "[encoded data removed]",
      "text/plain": [
       "<Figure size 432x288 with 1 Axes>"
      ]
     },
     "metadata": {
      "needs_background": "light"
     },
     "output_type": "display_data"
    }
   ],
   "source": [
    "single_df.ihs.hist()"
   ]
  },
  {
   "cell_type": "code",
   "execution_count": 31,
   "id": "6ca7d4a0",
   "metadata": {},
   "outputs": [
    {
     "data": {
      "text/plain": [
       "<AxesSubplot:>"
      ]
     },
     "execution_count": 31,
     "metadata": {},
     "output_type": "execute_result"
    },
    {
     "data": {
      "image/png": "[encoded data removed]",
      "text/plain": [
       "<Figure size 432x288 with 1 Axes>"
      ]
     },
     "metadata": {
      "needs_background": "light"
     },
     "output_type": "display_data"
    }
   ],
   "source": [
    "single_df.ooss.hist()"
   ]
  },
  {
   "cell_type": "code",
   "execution_count": 32,
   "id": "3bb65b62",
   "metadata": {},
   "outputs": [
    {
     "data": {
      "text/plain": [
       "<AxesSubplot:>"
      ]
     },
     "execution_count": 32,
     "metadata": {},
     "output_type": "execute_result"
    },
    {
     "data": {
      "image/png": "[encoded data removed]",
      "text/plain": [
       "<Figure size 432x288 with 1 Axes>"
      ]
     },
     "metadata": {
      "needs_background": "light"
     },
     "output_type": "display_data"
    }
   ],
   "source": [
    "churn_sample_family = family_df[family_df.churn == 'Yes'].ihs\n",
    "\n",
    "churn_sample_family.hist()"
   ]
  },
  {
   "cell_type": "code",
   "execution_count": 33,
   "id": "7db0910d",
   "metadata": {},
   "outputs": [
    {
     "name": "stdout",
     "output_type": "stream",
     "text": [
      "4.2045001190478 2.3576048722902858e-05 0.5\n"
     ]
    }
   ],
   "source": [
    "churn_sample_family = family_df[family_df.churn == 'Yes'].ihs\n",
    "overall_mean_family = family_df.ihs.mean()\n",
    "\n",
    "t, p = stats.ttest_1samp(churn_sample_family, overall_mean_family)\n",
    "\n",
    "print(t, p/2, alpha)"
   ]
  },
  {
   "cell_type": "code",
   "execution_count": 34,
   "id": "3f963831",
   "metadata": {},
   "outputs": [
    {
     "name": "stdout",
     "output_type": "stream",
     "text": [
      "We reject $H_{0}$\n"
     ]
    }
   ],
   "source": [
    "if p/2 > alpha:\n",
    "    print(\"We fail to reject $H_{0}$\")\n",
    "elif t < 0:\n",
    "    print(\"We fail to reject $H_{0}$\")\n",
    "else:\n",
    "    print(\"We reject $H_{0}$\")"
   ]
  },
  {
   "cell_type": "markdown",
   "id": "1d278770",
   "metadata": {},
   "source": [
    "by failing to reject the null hypothesis, we recognize there is no relationship between churn and ihs among families"
   ]
  },
  {
   "cell_type": "code",
   "execution_count": 35,
   "id": "23ded12a",
   "metadata": {},
   "outputs": [
    {
     "data": {
      "text/plain": [
       "<AxesSubplot:>"
      ]
     },
     "execution_count": 35,
     "metadata": {},
     "output_type": "execute_result"
    },
    {
     "data": {
      "image/png": "[encoded data removed]",
      "text/plain": [
       "<Figure size 432x288 with 1 Axes>"
      ]
     },
     "metadata": {
      "needs_background": "light"
     },
     "output_type": "display_data"
    }
   ],
   "source": [
    "churn_sample_family = family_df[family_df.churn == 'Yes'].ooss\n",
    "\n",
    "churn_sample_family.hist()"
   ]
  },
  {
   "cell_type": "markdown",
   "id": "c4692d4f",
   "metadata": {},
   "source": [
    "people tend to be more satisfied with more ooss"
   ]
  },
  {
   "cell_type": "markdown",
   "id": "59eeec9c",
   "metadata": {},
   "source": [
    "###############################################################################################################\n"
   ]
  },
  {
   "cell_type": "code",
   "execution_count": 36,
   "id": "19df7f8f",
   "metadata": {},
   "outputs": [
    {
     "data": {
      "text/html": [
       "<div>\n",
       "<style scoped>\n",
       "    .dataframe tbody tr th:only-of-type {\n",
       "        vertical-align: middle;\n",
       "    }\n",
       "\n",
       "    .dataframe tbody tr th {\n",
       "        vertical-align: top;\n",
       "    }\n",
       "\n",
       "    .dataframe thead th {\n",
       "        text-align: right;\n",
       "    }\n",
       "</style>\n",
       "<table border=\"1\" class=\"dataframe\">\n",
       "  <thead>\n",
       "    <tr style=\"text-align: right;\">\n",
       "      <th></th>\n",
       "      <th>customer_id</th>\n",
       "      <th>gender</th>\n",
       "      <th>senior_citizen</th>\n",
       "      <th>partner</th>\n",
       "      <th>dependents</th>\n",
       "      <th>tenure</th>\n",
       "      <th>phone_service</th>\n",
       "      <th>multiple_lines</th>\n",
       "      <th>internet</th>\n",
       "      <th>online_security</th>\n",
       "      <th>...</th>\n",
       "      <th>family_house</th>\n",
       "      <th>single_head_house</th>\n",
       "      <th>gender_Male</th>\n",
       "      <th>partner_Yes</th>\n",
       "      <th>dependents_Yes</th>\n",
       "      <th>phone_service_Yes</th>\n",
       "      <th>paperless_billing_Yes</th>\n",
       "      <th>churn_Yes</th>\n",
       "      <th>ihs</th>\n",
       "      <th>ooss</th>\n",
       "    </tr>\n",
       "  </thead>\n",
       "  <tbody>\n",
       "    <tr>\n",
       "      <th>3658</th>\n",
       "      <td>5170-PTRKA</td>\n",
       "      <td>Female</td>\n",
       "      <td>0</td>\n",
       "      <td>Yes</td>\n",
       "      <td>Yes</td>\n",
       "      <td>49</td>\n",
       "      <td>No</td>\n",
       "      <td>0</td>\n",
       "      <td>1</td>\n",
       "      <td>1</td>\n",
       "      <td>...</td>\n",
       "      <td>True</td>\n",
       "      <td>False</td>\n",
       "      <td>0</td>\n",
       "      <td>1</td>\n",
       "      <td>1</td>\n",
       "      <td>0</td>\n",
       "      <td>1</td>\n",
       "      <td>0</td>\n",
       "      <td>1</td>\n",
       "      <td>2</td>\n",
       "    </tr>\n",
       "    <tr>\n",
       "      <th>3865</th>\n",
       "      <td>5442-BXVND</td>\n",
       "      <td>Female</td>\n",
       "      <td>0</td>\n",
       "      <td>Yes</td>\n",
       "      <td>Yes</td>\n",
       "      <td>33</td>\n",
       "      <td>Yes</td>\n",
       "      <td>1</td>\n",
       "      <td>0</td>\n",
       "      <td>0</td>\n",
       "      <td>...</td>\n",
       "      <td>True</td>\n",
       "      <td>False</td>\n",
       "      <td>0</td>\n",
       "      <td>1</td>\n",
       "      <td>1</td>\n",
       "      <td>1</td>\n",
       "      <td>0</td>\n",
       "      <td>0</td>\n",
       "      <td>2</td>\n",
       "      <td>0</td>\n",
       "    </tr>\n",
       "    <tr>\n",
       "      <th>386</th>\n",
       "      <td>0570-BFQHT</td>\n",
       "      <td>Female</td>\n",
       "      <td>0</td>\n",
       "      <td>No</td>\n",
       "      <td>No</td>\n",
       "      <td>9</td>\n",
       "      <td>Yes</td>\n",
       "      <td>0</td>\n",
       "      <td>1</td>\n",
       "      <td>0</td>\n",
       "      <td>...</td>\n",
       "      <td>False</td>\n",
       "      <td>False</td>\n",
       "      <td>0</td>\n",
       "      <td>0</td>\n",
       "      <td>0</td>\n",
       "      <td>1</td>\n",
       "      <td>0</td>\n",
       "      <td>0</td>\n",
       "      <td>2</td>\n",
       "      <td>2</td>\n",
       "    </tr>\n",
       "    <tr>\n",
       "      <th>1204</th>\n",
       "      <td>1769-GRUIK</td>\n",
       "      <td>Female</td>\n",
       "      <td>0</td>\n",
       "      <td>No</td>\n",
       "      <td>No</td>\n",
       "      <td>18</td>\n",
       "      <td>Yes</td>\n",
       "      <td>0</td>\n",
       "      <td>1</td>\n",
       "      <td>0</td>\n",
       "      <td>...</td>\n",
       "      <td>False</td>\n",
       "      <td>False</td>\n",
       "      <td>0</td>\n",
       "      <td>0</td>\n",
       "      <td>0</td>\n",
       "      <td>1</td>\n",
       "      <td>1</td>\n",
       "      <td>0</td>\n",
       "      <td>2</td>\n",
       "      <td>0</td>\n",
       "    </tr>\n",
       "    <tr>\n",
       "      <th>4570</th>\n",
       "      <td>6439-PKTRR</td>\n",
       "      <td>Female</td>\n",
       "      <td>0</td>\n",
       "      <td>Yes</td>\n",
       "      <td>Yes</td>\n",
       "      <td>70</td>\n",
       "      <td>Yes</td>\n",
       "      <td>1</td>\n",
       "      <td>1</td>\n",
       "      <td>1</td>\n",
       "      <td>...</td>\n",
       "      <td>True</td>\n",
       "      <td>False</td>\n",
       "      <td>0</td>\n",
       "      <td>1</td>\n",
       "      <td>1</td>\n",
       "      <td>1</td>\n",
       "      <td>0</td>\n",
       "      <td>0</td>\n",
       "      <td>4</td>\n",
       "      <td>4</td>\n",
       "    </tr>\n",
       "  </tbody>\n",
       "</table>\n",
       "<p>5 rows × 38 columns</p>\n",
       "</div>"
      ],
      "text/plain": [
       "     customer_id  gender  senior_citizen partner dependents  tenure  \\\n",
       "3658  5170-PTRKA  Female               0     Yes        Yes      49   \n",
       "3865  5442-BXVND  Female               0     Yes        Yes      33   \n",
       "386   0570-BFQHT  Female               0      No         No       9   \n",
       "1204  1769-GRUIK  Female               0      No         No      18   \n",
       "4570  6439-PKTRR  Female               0     Yes        Yes      70   \n",
       "\n",
       "     phone_service  multiple_lines  internet  online_security  ...  \\\n",
       "3658            No               0         1                1  ...   \n",
       "3865           Yes               1         0                0  ...   \n",
       "386            Yes               0         1                0  ...   \n",
       "1204           Yes               0         1                0  ...   \n",
       "4570           Yes               1         1                1  ...   \n",
       "\n",
       "      family_house  single_head_house  gender_Male  partner_Yes  \\\n",
       "3658          True              False            0            1   \n",
       "3865          True              False            0            1   \n",
       "386          False              False            0            0   \n",
       "1204         False              False            0            0   \n",
       "4570          True              False            0            1   \n",
       "\n",
       "      dependents_Yes  phone_service_Yes paperless_billing_Yes  churn_Yes  ihs  \\\n",
       "3658               1                  0                     1          0    1   \n",
       "3865               1                  1                     0          0    2   \n",
       "386                0                  1                     0          0    2   \n",
       "1204               0                  1                     1          0    2   \n",
       "4570               1                  1                     0          0    4   \n",
       "\n",
       "      ooss  \n",
       "3658     2  \n",
       "3865     0  \n",
       "386      2  \n",
       "1204     0  \n",
       "4570     4  \n",
       "\n",
       "[5 rows x 38 columns]"
      ]
     },
     "execution_count": 36,
     "metadata": {},
     "output_type": "execute_result"
    }
   ],
   "source": [
    "train_df.head()"
   ]
  },
  {
   "cell_type": "code",
   "execution_count": 37,
   "id": "96ba2b00",
   "metadata": {},
   "outputs": [
    {
     "data": {
      "text/plain": [
       "<AxesSubplot:>"
      ]
     },
     "execution_count": 37,
     "metadata": {},
     "output_type": "execute_result"
    },
    {
     "data": {
      "image/png": "[encoded data removed]",
      "text/plain": [
       "<Figure size 432x288 with 1 Axes>"
      ]
     },
     "metadata": {
      "needs_background": "light"
     },
     "output_type": "display_data"
    }
   ],
   "source": [
    "train_df.ihs.hist()"
   ]
  },
  {
   "cell_type": "code",
   "execution_count": 38,
   "id": "9e46ab33",
   "metadata": {},
   "outputs": [
    {
     "data": {
      "text/plain": [
       "<AxesSubplot:>"
      ]
     },
     "execution_count": 38,
     "metadata": {},
     "output_type": "execute_result"
    },
    {
     "data": {
      "image/png": "[encoded data removed]",
      "text/plain": [
       "<Figure size 432x288 with 1 Axes>"
      ]
     },
     "metadata": {
      "needs_background": "light"
     },
     "output_type": "display_data"
    }
   ],
   "source": [
    "train_df.ooss.hist()"
   ]
  },
  {
   "cell_type": "code",
   "execution_count": 39,
   "id": "1bf188db",
   "metadata": {},
   "outputs": [
    {
     "data": {
      "text/plain": [
       "<AxesSubplot:>"
      ]
     },
     "execution_count": 39,
     "metadata": {},
     "output_type": "execute_result"
    },
    {
     "data": {
      "image/png": "[encoded data removed]",
      "text/plain": [
       "<Figure size 432x288 with 1 Axes>"
      ]
     },
     "metadata": {
      "needs_background": "light"
     },
     "output_type": "display_data"
    }
   ],
   "source": [
    "train_df[train_df.churn == 'Yes'].ihs.hist()"
   ]
  },
  {
   "cell_type": "code",
   "execution_count": 40,
   "id": "1945d3c6",
   "metadata": {},
   "outputs": [
    {
     "data": {
      "text/plain": [
       "<AxesSubplot:>"
      ]
     },
     "execution_count": 40,
     "metadata": {},
     "output_type": "execute_result"
    },
    {
     "data": {
      "image/png": "[encoded data removed]",
      "text/plain": [
       "<Figure size 432x288 with 1 Axes>"
      ]
     },
     "metadata": {
      "needs_background": "light"
     },
     "output_type": "display_data"
    }
   ],
   "source": [
    "train_df[train_df.churn == 'Yes'].ooss.hist()"
   ]
  },
  {
   "cell_type": "markdown",
   "id": "903fff8d",
   "metadata": {},
   "source": [
    "#### some chi-squared"
   ]
  },
  {
   "cell_type": "code",
   "execution_count": 55,
   "id": "f4c4f2b1",
   "metadata": {},
   "outputs": [
    {
     "data": {
      "text/html": [
       "<div>\n",
       "<style scoped>\n",
       "    .dataframe tbody tr th:only-of-type {\n",
       "        vertical-align: middle;\n",
       "    }\n",
       "\n",
       "    .dataframe tbody tr th {\n",
       "        vertical-align: top;\n",
       "    }\n",
       "\n",
       "    .dataframe thead th {\n",
       "        text-align: right;\n",
       "    }\n",
       "</style>\n",
       "<table border=\"1\" class=\"dataframe\">\n",
       "  <thead>\n",
       "    <tr style=\"text-align: right;\">\n",
       "      <th>churn</th>\n",
       "      <th>No</th>\n",
       "      <th>Yes</th>\n",
       "    </tr>\n",
       "    <tr>\n",
       "      <th>ooss</th>\n",
       "      <th></th>\n",
       "      <th></th>\n",
       "    </tr>\n",
       "  </thead>\n",
       "  <tbody>\n",
       "    <tr>\n",
       "      <th>0</th>\n",
       "      <td>490</td>\n",
       "      <td>328</td>\n",
       "    </tr>\n",
       "    <tr>\n",
       "      <th>1</th>\n",
       "      <td>259</td>\n",
       "      <td>206</td>\n",
       "    </tr>\n",
       "    <tr>\n",
       "      <th>2</th>\n",
       "      <td>237</td>\n",
       "      <td>73</td>\n",
       "    </tr>\n",
       "    <tr>\n",
       "      <th>3</th>\n",
       "      <td>140</td>\n",
       "      <td>22</td>\n",
       "    </tr>\n",
       "    <tr>\n",
       "      <th>4</th>\n",
       "      <td>70</td>\n",
       "      <td>5</td>\n",
       "    </tr>\n",
       "  </tbody>\n",
       "</table>\n",
       "</div>"
      ],
      "text/plain": [
       "churn   No  Yes\n",
       "ooss           \n",
       "0      490  328\n",
       "1      259  206\n",
       "2      237   73\n",
       "3      140   22\n",
       "4       70    5"
      ]
     },
     "execution_count": 55,
     "metadata": {},
     "output_type": "execute_result"
    }
   ],
   "source": [
    "observed = pd.crosstab(single_df.ooss, single_df.churn)\n",
    "observed"
   ]
  },
  {
   "cell_type": "code",
   "execution_count": 56,
   "id": "9b5e8ecd",
   "metadata": {},
   "outputs": [
    {
     "data": {
      "text/plain": [
       "(104.42554203507709,\n",
       " 1.122787418074825e-21,\n",
       " 4,\n",
       " array([[534.60546448, 283.39453552],\n",
       "        [303.90163934, 161.09836066],\n",
       "        [202.6010929 , 107.3989071 ],\n",
       "        [105.87540984,  56.12459016],\n",
       "        [ 49.01639344,  25.98360656]]))"
      ]
     },
     "execution_count": 56,
     "metadata": {},
     "output_type": "execute_result"
    }
   ],
   "source": [
    "stats.chi2_contingency(observed)"
   ]
  },
  {
   "cell_type": "code",
   "execution_count": 57,
   "id": "0bdea9c9",
   "metadata": {},
   "outputs": [],
   "source": [
    "chi2, p, degf, expected = stats.chi2_contingency(observed)"
   ]
  },
  {
   "cell_type": "code",
   "execution_count": 58,
   "id": "942b6d8b",
   "metadata": {},
   "outputs": [
    {
     "name": "stdout",
     "output_type": "stream",
     "text": [
      "Observed\n",
      "[[490 328]\n",
      " [259 206]\n",
      " [237  73]\n",
      " [140  22]\n",
      " [ 70   5]]\n",
      "\n",
      "Expected\n",
      "[[534 283]\n",
      " [303 161]\n",
      " [202 107]\n",
      " [105  56]\n",
      " [ 49  25]]\n",
      "\n",
      "----\n",
      "chi^2 = 104.4255\n",
      "p     = 0.0000\n"
     ]
    }
   ],
   "source": [
    "print('Observed')\n",
    "print(observed.values)\n",
    "print('\\nExpected')\n",
    "print(expected.astype(int))\n",
    "print('\\n----')\n",
    "print(f'chi^2 = {chi2:.4f}')\n",
    "print(f'p     = {p:.4f}')"
   ]
  },
  {
   "cell_type": "code",
   "execution_count": null,
   "id": "f87fa705",
   "metadata": {},
   "outputs": [],
   "source": []
  },
  {
   "cell_type": "markdown",
   "id": "c8ad4b3a",
   "metadata": {},
   "source": [
    "#### considering monthly charges"
   ]
  },
  {
   "cell_type": "code",
   "execution_count": null,
   "id": "247e8b6a",
   "metadata": {},
   "outputs": [],
   "source": [
    "observed = pd.crosstab(family_df.charge_bins, family_df.ihs)\n",
    "observed"
   ]
  },
  {
   "cell_type": "code",
   "execution_count": null,
   "id": "7342f90e",
   "metadata": {},
   "outputs": [],
   "source": [
    "stats.chi2_contingency(observed)"
   ]
  },
  {
   "cell_type": "code",
   "execution_count": null,
   "id": "d14e93e6",
   "metadata": {},
   "outputs": [],
   "source": [
    "chi2, p, degf, expected = stats.chi2_contingency(observed)"
   ]
  },
  {
   "cell_type": "code",
   "execution_count": null,
   "id": "2c57d4d9",
   "metadata": {},
   "outputs": [],
   "source": [
    "print('Observed')\n",
    "print(observed.values)\n",
    "print('\\nExpected')\n",
    "print(expected.astype(int))\n",
    "print('\\n----')\n",
    "print(f'chi^2 = {chi2:.4f}')\n",
    "print(f'p     = {p:.4f}')"
   ]
  },
  {
   "cell_type": "code",
   "execution_count": null,
   "id": "a15e4b59",
   "metadata": {},
   "outputs": [],
   "source": [
    "observed = pd.crosstab(single_df.charge_bins, single_df.ihs)\n",
    "observed"
   ]
  },
  {
   "cell_type": "markdown",
   "id": "c5e4781d",
   "metadata": {},
   "source": [
    "## baseline stats"
   ]
  },
  {
   "cell_type": "code",
   "execution_count": 18,
   "id": "981d4478",
   "metadata": {},
   "outputs": [
    {
     "data": {
      "text/plain": [
       "No     0.653552\n",
       "Yes    0.346448\n",
       "Name: churn, dtype: float64"
      ]
     },
     "execution_count": 18,
     "metadata": {},
     "output_type": "execute_result"
    }
   ],
   "source": [
    "single_df.churn.value_counts(normalize = True)"
   ]
  },
  {
   "cell_type": "code",
   "execution_count": 19,
   "id": "54d44d5f",
   "metadata": {},
   "outputs": [
    {
     "data": {
      "text/plain": [
       "No     0.857588\n",
       "Yes    0.142412\n",
       "Name: churn, dtype: float64"
      ]
     },
     "execution_count": 19,
     "metadata": {},
     "output_type": "execute_result"
    }
   ],
   "source": [
    "family_df.churn.value_counts(normalize = True)"
   ]
  },
  {
   "cell_type": "code",
   "execution_count": 20,
   "id": "00a8cf88",
   "metadata": {},
   "outputs": [
    {
     "data": {
      "text/plain": [
       "No     0.748936\n",
       "Yes    0.251064\n",
       "Name: churn, dtype: float64"
      ]
     },
     "execution_count": 20,
     "metadata": {},
     "output_type": "execute_result"
    }
   ],
   "source": [
    "dual_df.churn.value_counts(normalize = True)"
   ]
  },
  {
   "cell_type": "code",
   "execution_count": 21,
   "id": "0233c25a",
   "metadata": {},
   "outputs": [
    {
     "data": {
      "text/plain": [
       "No     0.815166\n",
       "Yes    0.184834\n",
       "Name: churn, dtype: float64"
      ]
     },
     "execution_count": 21,
     "metadata": {},
     "output_type": "execute_result"
    }
   ],
   "source": [
    "single_head_house_df.churn.value_counts(normalize = True)"
   ]
  },
  {
   "cell_type": "code",
   "execution_count": 22,
   "id": "0c54e95e",
   "metadata": {},
   "outputs": [
    {
     "data": {
      "text/plain": [
       "No     0.73472\n",
       "Yes    0.26528\n",
       "Name: churn, dtype: float64"
      ]
     },
     "execution_count": 22,
     "metadata": {},
     "output_type": "execute_result"
    }
   ],
   "source": [
    "train_df.churn.value_counts(normalize = True)"
   ]
  },
  {
   "cell_type": "code",
   "execution_count": 23,
   "id": "53a1e2be",
   "metadata": {},
   "outputs": [
    {
     "data": {
      "text/plain": [
       "0    0.389297\n",
       "1    0.221405\n",
       "2    0.190464\n",
       "3    0.131879\n",
       "4    0.066954\n",
       "Name: ooss, dtype: float64"
      ]
     },
     "execution_count": 23,
     "metadata": {},
     "output_type": "execute_result"
    }
   ],
   "source": [
    "train_df.ooss.value_counts(normalize = True)"
   ]
  },
  {
   "cell_type": "code",
   "execution_count": 24,
   "id": "062f1c2d",
   "metadata": {},
   "outputs": [
    {
     "data": {
      "text/plain": [
       "0    0.377339\n",
       "2    0.187110\n",
       "3    0.172557\n",
       "1    0.158004\n",
       "4    0.104990\n",
       "Name: ooss, dtype: float64"
      ]
     },
     "execution_count": 24,
     "metadata": {},
     "output_type": "execute_result"
    }
   ],
   "source": [
    "family_df.ooss.value_counts(normalize = True)"
   ]
  },
  {
   "cell_type": "code",
   "execution_count": 25,
   "id": "23fb66da",
   "metadata": {},
   "outputs": [
    {
     "data": {
      "text/plain": [
       "0    0.446995\n",
       "1    0.254098\n",
       "2    0.169399\n",
       "3    0.088525\n",
       "4    0.040984\n",
       "Name: ooss, dtype: float64"
      ]
     },
     "execution_count": 25,
     "metadata": {},
     "output_type": "execute_result"
    }
   ],
   "source": [
    "single_df.ooss.value_counts(normalize = True)"
   ]
  },
  {
   "cell_type": "code",
   "execution_count": 26,
   "id": "d1bd1cb1",
   "metadata": {},
   "outputs": [
    {
     "data": {
      "text/plain": [
       "0    0.262766\n",
       "2    0.246809\n",
       "1    0.226596\n",
       "3    0.175532\n",
       "4    0.088298\n",
       "Name: ooss, dtype: float64"
      ]
     },
     "execution_count": 26,
     "metadata": {},
     "output_type": "execute_result"
    }
   ],
   "source": [
    "dual_df.ooss.value_counts(normalize = True)"
   ]
  },
  {
   "cell_type": "code",
   "execution_count": 27,
   "id": "f686dac4",
   "metadata": {},
   "outputs": [
    {
     "data": {
      "text/plain": [
       "0    0.507109\n",
       "1    0.203791\n",
       "2    0.137441\n",
       "3    0.127962\n",
       "4    0.023697\n",
       "Name: ooss, dtype: float64"
      ]
     },
     "execution_count": 27,
     "metadata": {},
     "output_type": "execute_result"
    }
   ],
   "source": [
    "single_head_house_df.ooss.value_counts(normalize = True)"
   ]
  },
  {
   "cell_type": "code",
   "execution_count": 28,
   "id": "bdb79374",
   "metadata": {
    "scrolled": true
   },
   "outputs": [
    {
     "data": {
      "text/plain": [
       "0    0.711387\n",
       "1    0.288613\n",
       "Name: online_security, dtype: float64"
      ]
     },
     "execution_count": 28,
     "metadata": {},
     "output_type": "execute_result"
    }
   ],
   "source": [
    "train_df.online_security.value_counts(normalize = True)"
   ]
  },
  {
   "cell_type": "code",
   "execution_count": 45,
   "id": "c0ae5c63",
   "metadata": {},
   "outputs": [
    {
     "data": {
      "text/plain": [
       "No     0.73472\n",
       "Yes    0.26528\n",
       "Name: churn, dtype: float64"
      ]
     },
     "execution_count": 45,
     "metadata": {},
     "output_type": "execute_result"
    }
   ],
   "source": [
    "train_df.churn.value_counts(normalize = True)"
   ]
  },
  {
   "cell_type": "code",
   "execution_count": 46,
   "id": "616d4ed9",
   "metadata": {},
   "outputs": [
    {
     "data": {
      "text/plain": [
       "No     0.653552\n",
       "Yes    0.346448\n",
       "Name: churn, dtype: float64"
      ]
     },
     "execution_count": 46,
     "metadata": {},
     "output_type": "execute_result"
    }
   ],
   "source": [
    "single_df.churn.value_counts(normalize = True)"
   ]
  },
  {
   "cell_type": "code",
   "execution_count": 47,
   "id": "d87ea8ce",
   "metadata": {},
   "outputs": [
    {
     "data": {
      "text/plain": [
       "No     0.748936\n",
       "Yes    0.251064\n",
       "Name: churn, dtype: float64"
      ]
     },
     "execution_count": 47,
     "metadata": {},
     "output_type": "execute_result"
    }
   ],
   "source": [
    "dual_df.churn.value_counts(normalize = True)"
   ]
  },
  {
   "cell_type": "code",
   "execution_count": 48,
   "id": "e31f63df",
   "metadata": {},
   "outputs": [
    {
     "data": {
      "text/plain": [
       "No     0.815166\n",
       "Yes    0.184834\n",
       "Name: churn, dtype: float64"
      ]
     },
     "execution_count": 48,
     "metadata": {},
     "output_type": "execute_result"
    }
   ],
   "source": [
    "single_head_house_df.churn.value_counts(normalize = True)"
   ]
  },
  {
   "cell_type": "code",
   "execution_count": 49,
   "id": "f5500c2c",
   "metadata": {},
   "outputs": [
    {
     "data": {
      "text/plain": [
       "No     0.857588\n",
       "Yes    0.142412\n",
       "Name: churn, dtype: float64"
      ]
     },
     "execution_count": 49,
     "metadata": {},
     "output_type": "execute_result"
    }
   ],
   "source": [
    "family_df.churn.value_counts(normalize = True)"
   ]
  },
  {
   "cell_type": "code",
   "execution_count": 50,
   "id": "2ab40e4a",
   "metadata": {},
   "outputs": [
    {
     "data": {
      "text/plain": [
       "2    0.228506\n",
       "3    0.214557\n",
       "1    0.206442\n",
       "4    0.182095\n",
       "5    0.168400\n",
       "Name: ihs, dtype: float64"
      ]
     },
     "execution_count": 50,
     "metadata": {},
     "output_type": "execute_result"
    }
   ],
   "source": [
    "train_df.ihs.value_counts(normalize = True)"
   ]
  },
  {
   "cell_type": "code",
   "execution_count": 51,
   "id": "6b3b34e3",
   "metadata": {},
   "outputs": [
    {
     "data": {
      "text/plain": [
       "2    0.250820\n",
       "3    0.245902\n",
       "1    0.214754\n",
       "4    0.166120\n",
       "5    0.122404\n",
       "Name: ihs, dtype: float64"
      ]
     },
     "execution_count": 51,
     "metadata": {},
     "output_type": "execute_result"
    }
   ],
   "source": [
    "single_df.ihs.value_counts(normalize = True)"
   ]
  },
  {
   "cell_type": "code",
   "execution_count": null,
   "id": "99cd9254",
   "metadata": {},
   "outputs": [],
   "source": []
  }
 ],
 "metadata": {
  "kernelspec": {
   "display_name": "Python 3 (ipykernel)",
   "language": "python",
   "name": "python3"
  },
  "language_info": {
   "codemirror_mode": {
    "name": "ipython",
    "version": 3
   },
   "file_extension": ".py",
   "mimetype": "text/x-python",
   "name": "python",
   "nbconvert_exporter": "python",
   "pygments_lexer": "ipython3",
   "version": "3.9.12"
  }
 },
 "nbformat": 4,
 "nbformat_minor": 5
}
