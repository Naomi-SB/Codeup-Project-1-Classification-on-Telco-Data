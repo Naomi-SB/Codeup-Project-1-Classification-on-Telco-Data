{
 "cells": [
  {
   "cell_type": "markdown",
   "id": "f17862d7",
   "metadata": {},
   "source": [
    "# Do in-hand services deter churn more than low cost?"
   ]
  },
  {
   "cell_type": "markdown",
   "id": "1f47b7cf",
   "metadata": {},
   "source": [
    "## Goal: \n",
    "    - discover drivers of churn from telco dataset\n",
    "    - use machine learning to classify cutomers as likley or unlikely to churn based on drivers\n",
    "    - To answer the question, to prevent churn do we need to sell more products or focus on retention? And if we need to sell more products, does the accessibility of the product matter?"
   ]
  },
  {
   "cell_type": "markdown",
   "id": "b2a93d37",
   "metadata": {},
   "source": [
    "## Data Dictionary:"
   ]
  },
  {
   "cell_type": "markdown",
   "id": "3213a8fc",
   "metadata": {},
   "source": [
    "## Imports:"
   ]
  },
  {
   "cell_type": "code",
   "execution_count": 1,
   "id": "e7f68385",
   "metadata": {},
   "outputs": [],
   "source": [
    "import pydataset as data\n",
    "import pandas as pd\n",
    "import numpy as np\n",
    "import seaborn as sns\n",
    "import math\n",
    "import os\n",
    "\n",
    "from scipy import stats\n",
    "import matplotlib.pyplot as plt\n",
    "\n",
    "from sklearn.model_selection import train_test_split\n",
    "from sklearn.metrics import classification_report\n",
    "from sklearn.metrics import confusion_matrix\n",
    "\n",
    "from sklearn.linear_model import LogisticRegression\n",
    "from sklearn.tree import DecisionTreeClassifier, plot_tree\n",
    "from sklearn.ensemble import RandomForestClassifier\n",
    "from sklearn.neighbors import KNeighborsClassifier\n",
    "\n",
    "import env\n",
    "import wrangle\n",
    "import acquire "
   ]
  },
  {
   "cell_type": "markdown",
   "id": "d6d4d2e5",
   "metadata": {},
   "source": [
    "## Acquire:"
   ]
  },
  {
   "cell_type": "code",
   "execution_count": 2,
   "id": "6506f839",
   "metadata": {},
   "outputs": [],
   "source": [
    "df = acquire.new_telco_data()"
   ]
  },
  {
   "cell_type": "markdown",
   "id": "72689a2a",
   "metadata": {},
   "source": [
    "## Prepare:"
   ]
  },
  {
   "cell_type": "markdown",
   "id": "7e15bb51",
   "metadata": {},
   "source": [
    "## A brief look at the data:"
   ]
  },
  {
   "cell_type": "markdown",
   "id": "7b16a249",
   "metadata": {},
   "source": [
    "## A summary of the data:"
   ]
  },
  {
   "cell_type": "markdown",
   "id": "a0886a7e",
   "metadata": {},
   "source": [
    "# Explore:"
   ]
  },
  {
   "cell_type": "markdown",
   "id": "1258c283",
   "metadata": {},
   "source": [
    "### Question 1: Does having multiple in-hand services affect churn?"
   ]
  },
  {
   "cell_type": "code",
   "execution_count": null,
   "id": "d44ad099",
   "metadata": {},
   "outputs": [],
   "source": [
    "#baseline for churn\n",
    "df_3.churn.value_counts(normalize=True)"
   ]
  },
  {
   "cell_type": "code",
   "execution_count": null,
   "id": "96ddf1f6",
   "metadata": {},
   "outputs": [],
   "source": []
  },
  {
   "cell_type": "code",
   "execution_count": null,
   "id": "104e2f1c",
   "metadata": {},
   "outputs": [],
   "source": []
  },
  {
   "cell_type": "code",
   "execution_count": null,
   "id": "d3bfa6b3",
   "metadata": {},
   "outputs": [],
   "source": []
  },
  {
   "cell_type": "code",
   "execution_count": null,
   "id": "9f3bd744",
   "metadata": {},
   "outputs": [],
   "source": []
  },
  {
   "cell_type": "code",
   "execution_count": null,
   "id": "10cc272e",
   "metadata": {},
   "outputs": [],
   "source": []
  },
  {
   "cell_type": "code",
   "execution_count": null,
   "id": "6d733c51",
   "metadata": {},
   "outputs": [],
   "source": [
    "#code for viz"
   ]
  },
  {
   "cell_type": "markdown",
   "id": "65d72364",
   "metadata": {},
   "source": [
    "explaination: stating what the viz shows"
   ]
  },
  {
   "cell_type": "markdown",
   "id": "84deca24",
   "metadata": {},
   "source": [
    "### Question 2: Is churn correlated to the size of a household?"
   ]
  },
  {
   "cell_type": "code",
   "execution_count": null,
   "id": "1cd6475d",
   "metadata": {},
   "outputs": [],
   "source": [
    "#code for viz"
   ]
  },
  {
   "cell_type": "markdown",
   "id": "c1054982",
   "metadata": {},
   "source": [
    "explaination: stating what the viz shows"
   ]
  },
  {
   "cell_type": "markdown",
   "id": "c2d3ec18",
   "metadata": {},
   "source": [
    "### Question 3: Does an increase in monthly charges affect churn?"
   ]
  },
  {
   "cell_type": "code",
   "execution_count": null,
   "id": "3701f038",
   "metadata": {},
   "outputs": [],
   "source": [
    "#code for viz"
   ]
  },
  {
   "cell_type": "markdown",
   "id": "c18d3c86",
   "metadata": {},
   "source": [
    "explaination: stating what the viz shows"
   ]
  },
  {
   "cell_type": "markdown",
   "id": "793b6a83",
   "metadata": {},
   "source": [
    "### Question 4: Is there a \"safety tenure?\""
   ]
  },
  {
   "cell_type": "code",
   "execution_count": null,
   "id": "ddcab0cf",
   "metadata": {},
   "outputs": [],
   "source": [
    "#code for viz"
   ]
  },
  {
   "cell_type": "markdown",
   "id": "dac835f2",
   "metadata": {},
   "source": [
    "explaination: stating what the viz shows"
   ]
  },
  {
   "cell_type": "markdown",
   "id": "275bca2f",
   "metadata": {},
   "source": [
    "### Question 5: if there is a safety tenure, is in-hand service amount correlated?"
   ]
  },
  {
   "cell_type": "code",
   "execution_count": null,
   "id": "3d455960",
   "metadata": {},
   "outputs": [],
   "source": [
    "#code for viz"
   ]
  },
  {
   "cell_type": "markdown",
   "id": "5eccb269",
   "metadata": {},
   "source": [
    "explaination: stating what the viz shows"
   ]
  },
  {
   "cell_type": "markdown",
   "id": "86fb2123",
   "metadata": {},
   "source": [
    "### Question 6: Is churn driven by a lack of a certain individual product?"
   ]
  },
  {
   "cell_type": "code",
   "execution_count": null,
   "id": "df561a31",
   "metadata": {},
   "outputs": [],
   "source": [
    "#code for viz"
   ]
  },
  {
   "cell_type": "markdown",
   "id": "6cd10db4",
   "metadata": {},
   "source": [
    "explaination: stating what the viz shows"
   ]
  },
  {
   "cell_type": "markdown",
   "id": "7bc91cac",
   "metadata": {},
   "source": [
    "# Exploration Summary:"
   ]
  },
  {
   "cell_type": "markdown",
   "id": "e30719cb",
   "metadata": {},
   "source": [
    "# Features I am moving to Modeling:"
   ]
  },
  {
   "cell_type": "markdown",
   "id": "409173f0",
   "metadata": {},
   "source": [
    "# Modeling:"
   ]
  },
  {
   "cell_type": "markdown",
   "id": "4f276451",
   "metadata": {},
   "source": [
    "### Model 1"
   ]
  },
  {
   "cell_type": "markdown",
   "id": "d15eccbd",
   "metadata": {},
   "source": [
    "### Model 2"
   ]
  },
  {
   "cell_type": "markdown",
   "id": "60f9b2f8",
   "metadata": {},
   "source": [
    "### Model 3"
   ]
  },
  {
   "cell_type": "markdown",
   "id": "23d8c3d0",
   "metadata": {},
   "source": [
    "### Model 4"
   ]
  },
  {
   "cell_type": "markdown",
   "id": "802926cd",
   "metadata": {},
   "source": [
    "## Comparing models"
   ]
  },
  {
   "cell_type": "markdown",
   "id": "47a4e296",
   "metadata": {},
   "source": [
    "# Model on Test Set"
   ]
  },
  {
   "cell_type": "markdown",
   "id": "87917882",
   "metadata": {},
   "source": [
    "### Modeling Summary:"
   ]
  },
  {
   "cell_type": "markdown",
   "id": "97f0def3",
   "metadata": {},
   "source": [
    "# Conclusions:"
   ]
  },
  {
   "cell_type": "markdown",
   "id": "684318a4",
   "metadata": {},
   "source": [
    "### Exploration:"
   ]
  },
  {
   "cell_type": "markdown",
   "id": "a3d6b5f2",
   "metadata": {},
   "source": [
    "### Modeling:"
   ]
  },
  {
   "cell_type": "markdown",
   "id": "b4abf2bd",
   "metadata": {},
   "source": [
    "### Recommendations:"
   ]
  },
  {
   "cell_type": "markdown",
   "id": "f747839b",
   "metadata": {},
   "source": [
    "### Next Steps:"
   ]
  },
  {
   "cell_type": "code",
   "execution_count": null,
   "id": "f2fff8e6",
   "metadata": {},
   "outputs": [],
   "source": []
  }
 ],
 "metadata": {
  "kernelspec": {
   "display_name": "Python 3 (ipykernel)",
   "language": "python",
   "name": "python3"
  },
  "language_info": {
   "codemirror_mode": {
    "name": "ipython",
    "version": 3
   },
   "file_extension": ".py",
   "mimetype": "text/x-python",
   "name": "python",
   "nbconvert_exporter": "python",
   "pygments_lexer": "ipython3",
   "version": "3.9.12"
  }
 },
 "nbformat": 4,
 "nbformat_minor": 5
}
