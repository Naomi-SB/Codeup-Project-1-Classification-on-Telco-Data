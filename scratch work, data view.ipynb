{
 "cells": [
  {
   "cell_type": "code",
   "execution_count": 1,
   "id": "8b64d4e4",
   "metadata": {},
   "outputs": [],
   "source": [
    "import pandas as pd\n",
    "import seaborn as sns\n",
    "from pydataset import data\n",
    "import numpy as np\n",
    "import os\n",
    "\n",
    "import wrangle as w\n",
    "from env import get_db_url\n",
    "\n",
    "#turn off pink warning boxes\n",
    "import warnings\n",
    "warnings.filterwarnings(\"ignore\")\n",
    "import prepare\n",
    "import exlore "
   ]
  },
  {
   "cell_type": "code",
   "execution_count": 2,
   "id": "408929ce",
   "metadata": {},
   "outputs": [],
   "source": [
    "# summons data from SQL into dataframe, no alterations. \n",
    "df = pd.read_sql('SELECT * FROM customers', get_db_url('telco_churn'))"
   ]
  },
  {
   "cell_type": "code",
   "execution_count": null,
   "id": "edcfafbe",
   "metadata": {},
   "outputs": [],
   "source": [
    "df = prepare.prep_frame(df)"
   ]
  },
  {
   "cell_type": "code",
   "execution_count": null,
   "id": "143092bd",
   "metadata": {},
   "outputs": [],
   "source": [
    "prepare.feature_group_df(df)"
   ]
  },
  {
   "cell_type": "code",
   "execution_count": null,
   "id": "aa5f24a6",
   "metadata": {},
   "outputs": [],
   "source": [
    "df.head(50)"
   ]
  },
  {
   "cell_type": "markdown",
   "id": "a69199ad",
   "metadata": {},
   "source": [
    "Exploring data:"
   ]
  },
  {
   "cell_type": "code",
   "execution_count": null,
   "id": "69503cf1",
   "metadata": {},
   "outputs": [],
   "source": [
    "df.info()"
   ]
  },
  {
   "cell_type": "markdown",
   "id": "03425d89",
   "metadata": {},
   "source": [
    "### How do i want to clean the data?\n",
    "- what i dont think I'll need but will leave on until the end: (customer_id, gender, senior_citizen, paperless_billing, payment_type_id)\n",
    "- convert total_charges to int\n",
    "- convert monthly charges to int\n",
    "- what to convert to binary: (partner, dependents, phone_service, multiple_lines, online_security, device_protection, tech_support, streaming_tv, streaming_movies, paperless_billing, churn)\n",
    "\n"
   ]
  },
  {
   "cell_type": "code",
   "execution_count": null,
   "id": "86ca46e8",
   "metadata": {},
   "outputs": [],
   "source": [
    "# create a function to convert total charges and monthly charges to int and get dummies for binary replacements\n"
   ]
  },
  {
   "cell_type": "code",
   "execution_count": null,
   "id": "10c070e2",
   "metadata": {},
   "outputs": [],
   "source": [
    "df.info()"
   ]
  },
  {
   "cell_type": "code",
   "execution_count": null,
   "id": "9cce64b3",
   "metadata": {
    "scrolled": true
   },
   "outputs": [],
   "source": [
    "df.total_charges"
   ]
  },
  {
   "cell_type": "code",
   "execution_count": null,
   "id": "76ca92dc",
   "metadata": {},
   "outputs": [],
   "source": [
    "\n",
    "# code that needs to go into a function for prepping data:\n",
    "df['total_charges'].str.replace(' ', '')\n",
    "df['total_charges'] = pd.to_numeric(df['total_charges'], errors = 'coerce')\n",
    "# code to rename internet services to internet\n",
    "df.rename(columns = {'internet_service_type_id': 'internet'}, inplace = True)\n",
    "# df.info() should reveal total_charges as float"
   ]
  },
  {
   "cell_type": "code",
   "execution_count": null,
   "id": "b55f243b",
   "metadata": {},
   "outputs": [],
   "source": [
    "df.head()"
   ]
  },
  {
   "cell_type": "code",
   "execution_count": null,
   "id": "530f2357",
   "metadata": {},
   "outputs": [],
   "source": [
    "# code that deals with(yes/no/neither)\n",
    "df['multiple_lines']= df.multiple_lines.map({'Yes':1, 'No':0, 'No phone service': 0})\n",
    "df['internet'] = df.internet.map({1:1, 2:1, 3: 0})\n",
    "df['online_security'] = df.online_security.map({'Yes':1, 'No':0, 'No internet service': 0})\n",
    "df['device_protection'] = df.device_protection.map({'Yes':1, 'No':0, 'No internet service': 0})\n",
    "df['tech_support'] = df.tech_support.map({'Yes':1, 'No':0, 'No internet service': 0})\n",
    "df['streaming_tv'] = df.streaming_tv.map({'Yes':1, 'No':0, 'No internet service': 0})\n",
    "df['streaming_movies'] = df.streaming_movies.map({'Yes':1, 'No':0, 'No internet service': 0})\n",
    "df['online_backup'] = df.online_backup.map({'Yes':1, 'No':0, 'No internet service': 0})\n",
    "df.head()"
   ]
  },
  {
   "cell_type": "code",
   "execution_count": null,
   "id": "e468e30b",
   "metadata": {},
   "outputs": [],
   "source": [
    "#code that deals with (yes/no)\n",
    "dummy_df = pd.get_dummies(df[['gender', 'partner', 'dependents', 'phone_service', 'paperless_billing', 'churn']], dummy_na = False, drop_first = True)"
   ]
  },
  {
   "cell_type": "code",
   "execution_count": null,
   "id": "9924e303",
   "metadata": {},
   "outputs": [],
   "source": [
    "dummy_df.head(11)"
   ]
  },
  {
   "cell_type": "code",
   "execution_count": null,
   "id": "40a401d7",
   "metadata": {},
   "outputs": [],
   "source": [
    "df = pd.concat([df, dummy_df], axis = 1)"
   ]
  },
  {
   "cell_type": "code",
   "execution_count": null,
   "id": "d33f7b49",
   "metadata": {},
   "outputs": [],
   "source": [
    "df['in_hand_services'] = df.streaming_movies + df.streaming_tv + df.multiple_lines + df.phone_service_Yes + df.internet"
   ]
  },
  {
   "cell_type": "code",
   "execution_count": null,
   "id": "1f01c682",
   "metadata": {},
   "outputs": [],
   "source": [
    "df['out_of_sight_services'] = df.online_security + df.online_backup + df.device_protection + df.tech_support"
   ]
  },
  {
   "cell_type": "code",
   "execution_count": null,
   "id": "30ee1b06",
   "metadata": {},
   "outputs": [],
   "source": [
    "df.head()"
   ]
  },
  {
   "cell_type": "code",
   "execution_count": null,
   "id": "2cee6a4b",
   "metadata": {},
   "outputs": [],
   "source": [
    "df.head(11)"
   ]
  },
  {
   "cell_type": "code",
   "execution_count": null,
   "id": "9cca76e7",
   "metadata": {},
   "outputs": [],
   "source": [
    "df.streaming_tv.value_counts()"
   ]
  },
  {
   "cell_type": "code",
   "execution_count": null,
   "id": "29596ccd",
   "metadata": {},
   "outputs": [],
   "source": [
    "df_2 = df"
   ]
  },
  {
   "cell_type": "code",
   "execution_count": null,
   "id": "80df5367",
   "metadata": {},
   "outputs": [],
   "source": [
    "df_single = df[(df.dependents == 'No') & (df.partner == 'No')]"
   ]
  },
  {
   "cell_type": "code",
   "execution_count": null,
   "id": "3d08ac87",
   "metadata": {},
   "outputs": [],
   "source": [
    "df_single.head()"
   ]
  },
  {
   "cell_type": "code",
   "execution_count": null,
   "id": "cf8a817d",
   "metadata": {},
   "outputs": [],
   "source": [
    "df_dual = df[(df.dependents == 'No') & (df.partner == 'Yes')]\n",
    "df_dual.head()"
   ]
  },
  {
   "cell_type": "code",
   "execution_count": null,
   "id": "c41706a6",
   "metadata": {},
   "outputs": [],
   "source": [
    "df_family = df[(df.dependents == 'Yes') & (df.partner == 'Yes')]\n",
    "df_family.head()\n"
   ]
  },
  {
   "cell_type": "code",
   "execution_count": null,
   "id": "3563e35f",
   "metadata": {},
   "outputs": [],
   "source": [
    "df_single_head = df[(df.dependents == 'Yes') & (df.partner == 'No')]\n",
    "df_single_head.head()\n"
   ]
  },
  {
   "cell_type": "markdown",
   "id": "d6d55256",
   "metadata": {},
   "source": [
    "# data exploration with family size vs churn"
   ]
  },
  {
   "cell_type": "code",
   "execution_count": null,
   "id": "fa92e82e",
   "metadata": {},
   "outputs": [],
   "source": [
    "df_2.head()"
   ]
  },
  {
   "cell_type": "code",
   "execution_count": null,
   "id": "6c7de881",
   "metadata": {},
   "outputs": [],
   "source": [
    "#add internet service type, multiple lines, streaming tv, streaming movies, phone_service_Yes as IN-HAND"
   ]
  },
  {
   "cell_type": "code",
   "execution_count": null,
   "id": "1c916771",
   "metadata": {},
   "outputs": [],
   "source": [
    "# add tech_support, device_protection, online_backup, online_secuirty as OUT-OF-SIGHT"
   ]
  },
  {
   "cell_type": "code",
   "execution_count": null,
   "id": "c3bf3147",
   "metadata": {},
   "outputs": [],
   "source": [
    "df_2.head()"
   ]
  },
  {
   "cell_type": "code",
   "execution_count": null,
   "id": "b8bb0393",
   "metadata": {},
   "outputs": [],
   "source": [
    "df_2.drop(columns = ['gender', 'partner', 'dependents', 'phone_service','senior_citizen', 'contract_type_id','paperless_billing'], inplace = True)"
   ]
  },
  {
   "cell_type": "code",
   "execution_count": null,
   "id": "2c95b165",
   "metadata": {},
   "outputs": [],
   "source": [
    "df_2.head()"
   ]
  },
  {
   "cell_type": "code",
   "execution_count": null,
   "id": "3d221651",
   "metadata": {},
   "outputs": [],
   "source": [
    "df_3 = df_2"
   ]
  },
  {
   "cell_type": "code",
   "execution_count": null,
   "id": "0f66d99f",
   "metadata": {},
   "outputs": [],
   "source": [
    "df_3.head()"
   ]
  },
  {
   "cell_type": "code",
   "execution_count": null,
   "id": "f1e531af",
   "metadata": {},
   "outputs": [],
   "source": [
    "df_3.info()"
   ]
  },
  {
   "cell_type": "code",
   "execution_count": null,
   "id": "854e21c3",
   "metadata": {},
   "outputs": [],
   "source": [
    "df_3['in_hand_services'] = (df_3.streaming_movies + df_3.streaming_tv + df_3.multiple_lines + df_3.phone_service_Yes + df_3.internet)"
   ]
  },
  {
   "cell_type": "code",
   "execution_count": null,
   "id": "6eec4e91",
   "metadata": {},
   "outputs": [],
   "source": [
    "df_3.head()"
   ]
  },
  {
   "cell_type": "code",
   "execution_count": null,
   "id": "93be478a",
   "metadata": {},
   "outputs": [],
   "source": [
    "df_3['out_of_sight_services'] = df_3.online_security + df_3.online_backup + df_3.device_protection + df_3.tech_support"
   ]
  },
  {
   "cell_type": "code",
   "execution_count": null,
   "id": "a147307d",
   "metadata": {},
   "outputs": [],
   "source": [
    "df_3.head()"
   ]
  },
  {
   "cell_type": "code",
   "execution_count": null,
   "id": "ee909418",
   "metadata": {},
   "outputs": [],
   "source": [
    "df_3[df_3.out_of_sight_services > df_3.in_hand_services].churn.count()"
   ]
  },
  {
   "cell_type": "code",
   "execution_count": null,
   "id": "fca58fe2",
   "metadata": {},
   "outputs": [],
   "source": [
    "df_3[df_3.in_hand_services > df_3.out_of_sight_services].churn.count()"
   ]
  },
  {
   "cell_type": "code",
   "execution_count": null,
   "id": "9ccb310b",
   "metadata": {},
   "outputs": [],
   "source": [
    "df_3.churn.value_counts(normalize=True)"
   ]
  },
  {
   "cell_type": "code",
   "execution_count": null,
   "id": "4273fda3",
   "metadata": {},
   "outputs": [],
   "source": [
    "#subset the data, make it look how i want it to look and then do value counts\n",
    "df_3.churn[df_3.in_hand_services > 2].count()"
   ]
  },
  {
   "cell_type": "code",
   "execution_count": null,
   "id": "ed4ede46",
   "metadata": {},
   "outputs": [],
   "source": [
    "df.churn.value_counts(normalize=True)"
   ]
  },
  {
   "cell_type": "markdown",
   "id": "4fdf2652",
   "metadata": {},
   "source": [
    "# testing dataframes"
   ]
  },
  {
   "cell_type": "code",
   "execution_count": 3,
   "id": "8ee19c39",
   "metadata": {},
   "outputs": [],
   "source": [
    "df = prepare.prep_frame(df)"
   ]
  },
  {
   "cell_type": "code",
   "execution_count": 4,
   "id": "98f65a04",
   "metadata": {},
   "outputs": [
    {
     "data": {
      "text/html": [
       "<div>\n",
       "<style scoped>\n",
       "    .dataframe tbody tr th:only-of-type {\n",
       "        vertical-align: middle;\n",
       "    }\n",
       "\n",
       "    .dataframe tbody tr th {\n",
       "        vertical-align: top;\n",
       "    }\n",
       "\n",
       "    .dataframe thead th {\n",
       "        text-align: right;\n",
       "    }\n",
       "</style>\n",
       "<table border=\"1\" class=\"dataframe\">\n",
       "  <thead>\n",
       "    <tr style=\"text-align: right;\">\n",
       "      <th></th>\n",
       "      <th>customer_id</th>\n",
       "      <th>gender</th>\n",
       "      <th>senior_citizen</th>\n",
       "      <th>partner</th>\n",
       "      <th>dependents</th>\n",
       "      <th>tenure</th>\n",
       "      <th>phone_service</th>\n",
       "      <th>multiple_lines</th>\n",
       "      <th>internet</th>\n",
       "      <th>online_security</th>\n",
       "      <th>...</th>\n",
       "      <th>total_charges</th>\n",
       "      <th>churn</th>\n",
       "      <th>gender_Male</th>\n",
       "      <th>partner_Yes</th>\n",
       "      <th>dependents_Yes</th>\n",
       "      <th>phone_service_Yes</th>\n",
       "      <th>paperless_billing_Yes</th>\n",
       "      <th>churn_Yes</th>\n",
       "      <th>in_hand_services</th>\n",
       "      <th>out_of_sight_services</th>\n",
       "    </tr>\n",
       "  </thead>\n",
       "  <tbody>\n",
       "    <tr>\n",
       "      <th>0</th>\n",
       "      <td>0002-ORFBO</td>\n",
       "      <td>Female</td>\n",
       "      <td>0</td>\n",
       "      <td>Yes</td>\n",
       "      <td>Yes</td>\n",
       "      <td>9</td>\n",
       "      <td>Yes</td>\n",
       "      <td>0</td>\n",
       "      <td>1</td>\n",
       "      <td>0</td>\n",
       "      <td>...</td>\n",
       "      <td>593.30</td>\n",
       "      <td>No</td>\n",
       "      <td>0</td>\n",
       "      <td>1</td>\n",
       "      <td>1</td>\n",
       "      <td>1</td>\n",
       "      <td>1</td>\n",
       "      <td>0</td>\n",
       "      <td>3</td>\n",
       "      <td>2</td>\n",
       "    </tr>\n",
       "    <tr>\n",
       "      <th>1</th>\n",
       "      <td>0003-MKNFE</td>\n",
       "      <td>Male</td>\n",
       "      <td>0</td>\n",
       "      <td>No</td>\n",
       "      <td>No</td>\n",
       "      <td>9</td>\n",
       "      <td>Yes</td>\n",
       "      <td>1</td>\n",
       "      <td>1</td>\n",
       "      <td>0</td>\n",
       "      <td>...</td>\n",
       "      <td>542.40</td>\n",
       "      <td>No</td>\n",
       "      <td>1</td>\n",
       "      <td>0</td>\n",
       "      <td>0</td>\n",
       "      <td>1</td>\n",
       "      <td>0</td>\n",
       "      <td>0</td>\n",
       "      <td>4</td>\n",
       "      <td>0</td>\n",
       "    </tr>\n",
       "    <tr>\n",
       "      <th>2</th>\n",
       "      <td>0004-TLHLJ</td>\n",
       "      <td>Male</td>\n",
       "      <td>0</td>\n",
       "      <td>No</td>\n",
       "      <td>No</td>\n",
       "      <td>4</td>\n",
       "      <td>Yes</td>\n",
       "      <td>0</td>\n",
       "      <td>1</td>\n",
       "      <td>0</td>\n",
       "      <td>...</td>\n",
       "      <td>280.85</td>\n",
       "      <td>Yes</td>\n",
       "      <td>1</td>\n",
       "      <td>0</td>\n",
       "      <td>0</td>\n",
       "      <td>1</td>\n",
       "      <td>1</td>\n",
       "      <td>1</td>\n",
       "      <td>2</td>\n",
       "      <td>1</td>\n",
       "    </tr>\n",
       "    <tr>\n",
       "      <th>3</th>\n",
       "      <td>0011-IGKFF</td>\n",
       "      <td>Male</td>\n",
       "      <td>1</td>\n",
       "      <td>Yes</td>\n",
       "      <td>No</td>\n",
       "      <td>13</td>\n",
       "      <td>Yes</td>\n",
       "      <td>0</td>\n",
       "      <td>1</td>\n",
       "      <td>0</td>\n",
       "      <td>...</td>\n",
       "      <td>1237.85</td>\n",
       "      <td>Yes</td>\n",
       "      <td>1</td>\n",
       "      <td>1</td>\n",
       "      <td>0</td>\n",
       "      <td>1</td>\n",
       "      <td>1</td>\n",
       "      <td>1</td>\n",
       "      <td>4</td>\n",
       "      <td>2</td>\n",
       "    </tr>\n",
       "    <tr>\n",
       "      <th>4</th>\n",
       "      <td>0013-EXCHZ</td>\n",
       "      <td>Female</td>\n",
       "      <td>1</td>\n",
       "      <td>Yes</td>\n",
       "      <td>No</td>\n",
       "      <td>3</td>\n",
       "      <td>Yes</td>\n",
       "      <td>0</td>\n",
       "      <td>1</td>\n",
       "      <td>0</td>\n",
       "      <td>...</td>\n",
       "      <td>267.40</td>\n",
       "      <td>Yes</td>\n",
       "      <td>0</td>\n",
       "      <td>1</td>\n",
       "      <td>0</td>\n",
       "      <td>1</td>\n",
       "      <td>1</td>\n",
       "      <td>1</td>\n",
       "      <td>3</td>\n",
       "      <td>1</td>\n",
       "    </tr>\n",
       "    <tr>\n",
       "      <th>...</th>\n",
       "      <td>...</td>\n",
       "      <td>...</td>\n",
       "      <td>...</td>\n",
       "      <td>...</td>\n",
       "      <td>...</td>\n",
       "      <td>...</td>\n",
       "      <td>...</td>\n",
       "      <td>...</td>\n",
       "      <td>...</td>\n",
       "      <td>...</td>\n",
       "      <td>...</td>\n",
       "      <td>...</td>\n",
       "      <td>...</td>\n",
       "      <td>...</td>\n",
       "      <td>...</td>\n",
       "      <td>...</td>\n",
       "      <td>...</td>\n",
       "      <td>...</td>\n",
       "      <td>...</td>\n",
       "      <td>...</td>\n",
       "      <td>...</td>\n",
       "    </tr>\n",
       "    <tr>\n",
       "      <th>7038</th>\n",
       "      <td>9987-LUTYD</td>\n",
       "      <td>Female</td>\n",
       "      <td>0</td>\n",
       "      <td>No</td>\n",
       "      <td>No</td>\n",
       "      <td>13</td>\n",
       "      <td>Yes</td>\n",
       "      <td>0</td>\n",
       "      <td>1</td>\n",
       "      <td>1</td>\n",
       "      <td>...</td>\n",
       "      <td>742.90</td>\n",
       "      <td>No</td>\n",
       "      <td>0</td>\n",
       "      <td>0</td>\n",
       "      <td>0</td>\n",
       "      <td>1</td>\n",
       "      <td>0</td>\n",
       "      <td>0</td>\n",
       "      <td>2</td>\n",
       "      <td>2</td>\n",
       "    </tr>\n",
       "    <tr>\n",
       "      <th>7039</th>\n",
       "      <td>9992-RRAMN</td>\n",
       "      <td>Male</td>\n",
       "      <td>0</td>\n",
       "      <td>Yes</td>\n",
       "      <td>No</td>\n",
       "      <td>22</td>\n",
       "      <td>Yes</td>\n",
       "      <td>1</td>\n",
       "      <td>1</td>\n",
       "      <td>0</td>\n",
       "      <td>...</td>\n",
       "      <td>1873.70</td>\n",
       "      <td>Yes</td>\n",
       "      <td>1</td>\n",
       "      <td>1</td>\n",
       "      <td>0</td>\n",
       "      <td>1</td>\n",
       "      <td>1</td>\n",
       "      <td>1</td>\n",
       "      <td>4</td>\n",
       "      <td>0</td>\n",
       "    </tr>\n",
       "    <tr>\n",
       "      <th>7040</th>\n",
       "      <td>9992-UJOEL</td>\n",
       "      <td>Male</td>\n",
       "      <td>0</td>\n",
       "      <td>No</td>\n",
       "      <td>No</td>\n",
       "      <td>2</td>\n",
       "      <td>Yes</td>\n",
       "      <td>0</td>\n",
       "      <td>1</td>\n",
       "      <td>0</td>\n",
       "      <td>...</td>\n",
       "      <td>92.75</td>\n",
       "      <td>No</td>\n",
       "      <td>1</td>\n",
       "      <td>0</td>\n",
       "      <td>0</td>\n",
       "      <td>1</td>\n",
       "      <td>1</td>\n",
       "      <td>0</td>\n",
       "      <td>2</td>\n",
       "      <td>1</td>\n",
       "    </tr>\n",
       "    <tr>\n",
       "      <th>7041</th>\n",
       "      <td>9993-LHIEB</td>\n",
       "      <td>Male</td>\n",
       "      <td>0</td>\n",
       "      <td>Yes</td>\n",
       "      <td>Yes</td>\n",
       "      <td>67</td>\n",
       "      <td>Yes</td>\n",
       "      <td>0</td>\n",
       "      <td>1</td>\n",
       "      <td>1</td>\n",
       "      <td>...</td>\n",
       "      <td>4627.65</td>\n",
       "      <td>No</td>\n",
       "      <td>1</td>\n",
       "      <td>1</td>\n",
       "      <td>1</td>\n",
       "      <td>1</td>\n",
       "      <td>0</td>\n",
       "      <td>0</td>\n",
       "      <td>3</td>\n",
       "      <td>3</td>\n",
       "    </tr>\n",
       "    <tr>\n",
       "      <th>7042</th>\n",
       "      <td>9995-HOTOH</td>\n",
       "      <td>Male</td>\n",
       "      <td>0</td>\n",
       "      <td>Yes</td>\n",
       "      <td>Yes</td>\n",
       "      <td>63</td>\n",
       "      <td>No</td>\n",
       "      <td>0</td>\n",
       "      <td>1</td>\n",
       "      <td>1</td>\n",
       "      <td>...</td>\n",
       "      <td>3707.60</td>\n",
       "      <td>No</td>\n",
       "      <td>1</td>\n",
       "      <td>1</td>\n",
       "      <td>1</td>\n",
       "      <td>0</td>\n",
       "      <td>0</td>\n",
       "      <td>0</td>\n",
       "      <td>3</td>\n",
       "      <td>3</td>\n",
       "    </tr>\n",
       "  </tbody>\n",
       "</table>\n",
       "<p>7043 rows × 29 columns</p>\n",
       "</div>"
      ],
      "text/plain": [
       "     customer_id  gender  senior_citizen partner dependents  tenure  \\\n",
       "0     0002-ORFBO  Female               0     Yes        Yes       9   \n",
       "1     0003-MKNFE    Male               0      No         No       9   \n",
       "2     0004-TLHLJ    Male               0      No         No       4   \n",
       "3     0011-IGKFF    Male               1     Yes         No      13   \n",
       "4     0013-EXCHZ  Female               1     Yes         No       3   \n",
       "...          ...     ...             ...     ...        ...     ...   \n",
       "7038  9987-LUTYD  Female               0      No         No      13   \n",
       "7039  9992-RRAMN    Male               0     Yes         No      22   \n",
       "7040  9992-UJOEL    Male               0      No         No       2   \n",
       "7041  9993-LHIEB    Male               0     Yes        Yes      67   \n",
       "7042  9995-HOTOH    Male               0     Yes        Yes      63   \n",
       "\n",
       "     phone_service  multiple_lines  internet  online_security  ...  \\\n",
       "0              Yes               0         1                0  ...   \n",
       "1              Yes               1         1                0  ...   \n",
       "2              Yes               0         1                0  ...   \n",
       "3              Yes               0         1                0  ...   \n",
       "4              Yes               0         1                0  ...   \n",
       "...            ...             ...       ...              ...  ...   \n",
       "7038           Yes               0         1                1  ...   \n",
       "7039           Yes               1         1                0  ...   \n",
       "7040           Yes               0         1                0  ...   \n",
       "7041           Yes               0         1                1  ...   \n",
       "7042            No               0         1                1  ...   \n",
       "\n",
       "      total_charges  churn  gender_Male  partner_Yes  dependents_Yes  \\\n",
       "0            593.30     No            0            1               1   \n",
       "1            542.40     No            1            0               0   \n",
       "2            280.85    Yes            1            0               0   \n",
       "3           1237.85    Yes            1            1               0   \n",
       "4            267.40    Yes            0            1               0   \n",
       "...             ...    ...          ...          ...             ...   \n",
       "7038         742.90     No            0            0               0   \n",
       "7039        1873.70    Yes            1            1               0   \n",
       "7040          92.75     No            1            0               0   \n",
       "7041        4627.65     No            1            1               1   \n",
       "7042        3707.60     No            1            1               1   \n",
       "\n",
       "      phone_service_Yes paperless_billing_Yes  churn_Yes  in_hand_services  \\\n",
       "0                     1                     1          0                 3   \n",
       "1                     1                     0          0                 4   \n",
       "2                     1                     1          1                 2   \n",
       "3                     1                     1          1                 4   \n",
       "4                     1                     1          1                 3   \n",
       "...                 ...                   ...        ...               ...   \n",
       "7038                  1                     0          0                 2   \n",
       "7039                  1                     1          1                 4   \n",
       "7040                  1                     1          0                 2   \n",
       "7041                  1                     0          0                 3   \n",
       "7042                  0                     0          0                 3   \n",
       "\n",
       "      out_of_sight_services  \n",
       "0                         2  \n",
       "1                         0  \n",
       "2                         1  \n",
       "3                         2  \n",
       "4                         1  \n",
       "...                     ...  \n",
       "7038                      2  \n",
       "7039                      0  \n",
       "7040                      1  \n",
       "7041                      3  \n",
       "7042                      3  \n",
       "\n",
       "[7043 rows x 29 columns]"
      ]
     },
     "execution_count": 4,
     "metadata": {},
     "output_type": "execute_result"
    }
   ],
   "source": [
    "prepare.feature_group_df(df)"
   ]
  },
  {
   "cell_type": "code",
   "execution_count": null,
   "id": "1f28ff6b",
   "metadata": {},
   "outputs": [],
   "source": []
  }
 ],
 "metadata": {
  "kernelspec": {
   "display_name": "Python 3 (ipykernel)",
   "language": "python",
   "name": "python3"
  },
  "language_info": {
   "codemirror_mode": {
    "name": "ipython",
    "version": 3
   },
   "file_extension": ".py",
   "mimetype": "text/x-python",
   "name": "python",
   "nbconvert_exporter": "python",
   "pygments_lexer": "ipython3",
   "version": "3.9.12"
  }
 },
 "nbformat": 4,
 "nbformat_minor": 5
}
